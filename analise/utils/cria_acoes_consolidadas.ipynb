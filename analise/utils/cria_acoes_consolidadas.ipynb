{
 "cells": [
  {
   "cell_type": "code",
   "execution_count": 5,
   "id": "ebe1884b",
   "metadata": {},
   "outputs": [
    {
     "name": "stdout",
     "output_type": "stream",
     "text": [
      "Arquivo 'acoes_consolidadas.csv' criado com sucesso!\n"
     ]
    }
   ],
   "source": [
    "import pandas as pd\n",
    "import os\n",
    "\n",
    "# Dicionário com setor de atuação\n",
    "setores = {\n",
    "    'PETR4': 'Energia',\n",
    "    'VALE3': 'Mineração',\n",
    "    'ITUB4': 'Financeiro',\n",
    "    'BBDC4': 'Financeiro',\n",
    "    'ABEV3': 'Consumo',\n",
    "    'WEGE3': 'Industrial',\n",
    "    'MGLU3': 'Varejo',\n",
    "    'LREN3': 'Varejo',\n",
    "    'BRFS3': 'Alimentos',\n",
    "    'B3SA3': 'Financeiro',\n",
    "    'SUZB3': 'Celulose',\n",
    "    'GGBR4': 'Siderurgia',\n",
    "    'CSNA3': 'Siderurgia',\n",
    "    'KLBN11': 'Celulose',\n",
    "    'ELET3': 'Energia',\n",
    "    'CPLE6': 'Energia',\n",
    "    'CYRE3': 'Construção',\n",
    "    'HAPV3': 'Saúde',\n",
    "    'PRIO3': 'Energia',\n",
    "    'CVCB3': 'Turismo'\n",
    "}\n",
    "\n",
    "# Caminho onde estão os CSVs\n",
    "pasta_dados = '../datasets/acoes_soltas/'\n",
    "\n",
    "# Lista para armazenar todos os DataFrames\n",
    "df_list = []\n",
    "\n",
    "# Processa cada arquivo\n",
    "for ticker, setor in setores.items():\n",
    "    caminho_csv = os.path.join(pasta_dados, f'{ticker}_raw.csv')\n",
    "    \n",
    "    if not os.path.exists(caminho_csv):\n",
    "        print(f'Arquivo não encontrado: {caminho_csv}')\n",
    "        continue\n",
    "    \n",
    "    df = pd.read_csv(caminho_csv)\n",
    "    df['ticker'] = ticker\n",
    "    df['setor'] = setor\n",
    "    \n",
    "    df_list.append(df)\n",
    "\n",
    "# Concatena todos os DataFrames\n",
    "df_geral = pd.concat(df_list, ignore_index=True)\n",
    "\n",
    "# Salva em CSV único\n",
    "df_geral.to_csv('acoes_consolidadas.csv', index=False)\n",
    "\n",
    "print(\"Arquivo 'acoes_consolidadas.csv' criado com sucesso!\")\n"
   ]
  }
 ],
 "metadata": {
  "kernelspec": {
   "display_name": "Python 3",
   "language": "python",
   "name": "python3"
  },
  "language_info": {
   "codemirror_mode": {
    "name": "ipython",
    "version": 3
   },
   "file_extension": ".py",
   "mimetype": "text/x-python",
   "name": "python",
   "nbconvert_exporter": "python",
   "pygments_lexer": "ipython3",
   "version": "3.13.1"
  }
 },
 "nbformat": 4,
 "nbformat_minor": 5
}
