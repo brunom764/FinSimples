{
 "cells": [
  {
   "cell_type": "code",
   "execution_count": 4,
   "id": "eff7436c",
   "metadata": {},
   "outputs": [
    {
     "data": {
      "text/html": [
       "<div>\n",
       "<style scoped>\n",
       "    .dataframe tbody tr th:only-of-type {\n",
       "        vertical-align: middle;\n",
       "    }\n",
       "\n",
       "    .dataframe tbody tr th {\n",
       "        vertical-align: top;\n",
       "    }\n",
       "\n",
       "    .dataframe thead th {\n",
       "        text-align: right;\n",
       "    }\n",
       "</style>\n",
       "<table border=\"1\" class=\"dataframe\">\n",
       "  <thead>\n",
       "    <tr style=\"text-align: right;\">\n",
       "      <th></th>\n",
       "      <th>data_pregao,cod_negociacao,tipo_mercado,nome_empresa,especificacao,moeda,preco_abertura,preco_maximo,preco_minimo,preco_medio,preco_fechamento,qtd_negocios,volume</th>\n",
       "    </tr>\n",
       "  </thead>\n",
       "  <tbody>\n",
       "    <tr>\n",
       "      <th>0</th>\n",
       "      <td>2017-01-02,AALR3,010,ALLIAR,ON      NM,R$,14.6...</td>\n",
       "    </tr>\n",
       "    <tr>\n",
       "      <th>1</th>\n",
       "      <td>2017-01-02,ABCB2,010,ABC BRASIL,DIR PRE N2,R$,...</td>\n",
       "    </tr>\n",
       "    <tr>\n",
       "      <th>2</th>\n",
       "      <td>2017-01-02,ABCB4,010,ABC BRASIL,PN  EJS N2,R$,...</td>\n",
       "    </tr>\n",
       "    <tr>\n",
       "      <th>3</th>\n",
       "      <td>2017-01-02,ABCB4F,020,ABC BRASIL,PN  EJS N2,R$...</td>\n",
       "    </tr>\n",
       "    <tr>\n",
       "      <th>4</th>\n",
       "      <td>2017-01-02,ABCP11,010,FII ABC IMOB,CI  ER,R$,1...</td>\n",
       "    </tr>\n",
       "  </tbody>\n",
       "</table>\n",
       "</div>"
      ],
      "text/plain": [
       "  data_pregao,cod_negociacao,tipo_mercado,nome_empresa,especificacao,moeda,preco_abertura,preco_maximo,preco_minimo,preco_medio,preco_fechamento,qtd_negocios,volume\n",
       "0  2017-01-02,AALR3,010,ALLIAR,ON      NM,R$,14.6...                                                                                                                \n",
       "1  2017-01-02,ABCB2,010,ABC BRASIL,DIR PRE N2,R$,...                                                                                                                \n",
       "2  2017-01-02,ABCB4,010,ABC BRASIL,PN  EJS N2,R$,...                                                                                                                \n",
       "3  2017-01-02,ABCB4F,020,ABC BRASIL,PN  EJS N2,R$...                                                                                                                \n",
       "4  2017-01-02,ABCP11,010,FII ABC IMOB,CI  ER,R$,1...                                                                                                                "
      ]
     },
     "execution_count": 4,
     "metadata": {},
     "output_type": "execute_result"
    }
   ],
   "source": [
    "import pandas as pd\n",
    "\n",
    "# 1. Carregar os arquivos de 2017 e 2018\n",
    "df_2017 = pd.read_csv(\"C:/Users/Colaborador/Documents/projetos/FinSimples/analise/datasets/cotacoes_resumidas_2017.csv\", sep=\"\\t\")\n",
    "df_2018 = pd.read_csv(\"C:/Users/Colaborador/Documents/projetos/FinSimples/analise/datasets/cotacoes_resumidas_2018.csv\", sep=\"\\t\")\n",
    "\n",
    "df_2017.head()"
   ]
  },
  {
   "cell_type": "code",
   "execution_count": 5,
   "id": "370a37b6",
   "metadata": {},
   "outputs": [
    {
     "name": "stderr",
     "output_type": "stream",
     "text": [
      "<>:15: SyntaxWarning: invalid escape sequence '\\$'\n",
      "<>:15: SyntaxWarning: invalid escape sequence '\\$'\n",
      "C:\\Users\\Colaborador\\AppData\\Local\\Temp\\ipykernel_12184\\309393976.py:15: SyntaxWarning: invalid escape sequence '\\$'\n",
      "  df[preco_cols] = df[preco_cols].replace('R\\$', '', regex=True).astype(float)\n"
     ]
    },
    {
     "name": "stdout",
     "output_type": "stream",
     "text": [
      "  cod_negociacao data_pregao  preco_abertura  preco_maximo  preco_minimo  \\\n",
      "0         AALL34  2017-03-12          140.91        141.31        139.79   \n",
      "1         AALL34  2017-03-19          134.07        134.07        134.07   \n",
      "2         AALL34  2017-03-26          128.05        128.05        128.05   \n",
      "3         AALL34  2017-04-02             NaN           NaN           NaN   \n",
      "4         AALL34  2017-04-09             NaN           NaN           NaN   \n",
      "\n",
      "   preco_fechamento   volume  qtd_negocios  preco_medio  nome_empresa  \\\n",
      "0            139.79  2712808             3      140.545  AMERICAN AIR   \n",
      "1            134.07  1756317             1      134.070  AMERICAN AIR   \n",
      "2            128.05    51220             1      128.050  AMERICAN AIR   \n",
      "3               NaN        0             0          NaN          None   \n",
      "4               NaN        0             0          NaN          None   \n",
      "\n",
      "   tipo_mercado especificacao moeda  \n",
      "0          10.0           DRN    R$  \n",
      "1          10.0           DRN    R$  \n",
      "2          10.0           DRN    R$  \n",
      "3           NaN          None  None  \n",
      "4           NaN          None  None  \n"
     ]
    }
   ],
   "source": [
    "import pandas as pd\n",
    "\n",
    "# 1. Carregar os arquivos de 2017 e 2018\n",
    "df_2017 = pd.read_csv(\"C:/Users/Colaborador/Documents/projetos/FinSimples/analise/datasets/cotacoes_resumidas_2017.csv\", sep=\",\")\n",
    "df_2018 = pd.read_csv(\"C:/Users/Colaborador/Documents/projetos/FinSimples/analise/datasets/cotacoes_resumidas_2018.csv\", sep=\",\")\n",
    "\n",
    "# 2. Concatenar os dados\n",
    "df = pd.concat([df_2017, df_2018], ignore_index=True)\n",
    "\n",
    "# 3. Converter data para datetime\n",
    "df['data_pregao'] = pd.to_datetime(df['data_pregao'])\n",
    "\n",
    "# 4. Remover 'R$' e converter colunas numéricas\n",
    "preco_cols = ['preco_abertura', 'preco_maximo', 'preco_minimo', 'preco_medio', 'preco_fechamento']\n",
    "df[preco_cols] = df[preco_cols].replace('R\\$', '', regex=True).astype(float)\n",
    "\n",
    "# 5. Agrupar por código e por semana\n",
    "df.set_index('data_pregao', inplace=True)\n",
    "df_weekly = df.groupby('cod_negociacao').resample('W').agg({\n",
    "    'preco_abertura': 'first',\n",
    "    'preco_maximo': 'max',\n",
    "    'preco_minimo': 'min',\n",
    "    'preco_fechamento': 'last',\n",
    "    'volume': 'sum',\n",
    "    'qtd_negocios': 'sum',\n",
    "    'preco_medio': 'mean',\n",
    "    'nome_empresa': 'first',\n",
    "    'tipo_mercado': 'first',\n",
    "    'especificacao': 'first',\n",
    "    'moeda': 'first'\n",
    "}).reset_index()\n",
    "\n",
    "# 6. Resultado\n",
    "print(df_weekly.head())\n"
   ]
  },
  {
   "cell_type": "code",
   "execution_count": 26,
   "id": "63d58dff",
   "metadata": {},
   "outputs": [
    {
     "name": "stderr",
     "output_type": "stream",
     "text": [
      "<>:16: SyntaxWarning: invalid escape sequence '\\$'\n",
      "<>:16: SyntaxWarning: invalid escape sequence '\\$'\n",
      "C:\\Users\\Colaborador\\AppData\\Local\\Temp\\ipykernel_12184\\1529795091.py:16: SyntaxWarning: invalid escape sequence '\\$'\n",
      "  df[preco_cols] = df[preco_cols].replace('R\\$', '', regex=True).astype(float)\n"
     ]
    }
   ],
   "source": [
    "import pandas as pd\n",
    "\n",
    "# 1. Carregar dados\n",
    "df_2017 = pd.read_csv(\"C:/Users/Colaborador/Documents/projetos/FinSimples/analise/datasets/cotacoes_resumidas_2017.csv\", sep=\",\")\n",
    "df_2018 = pd.read_csv(\"C:/Users/Colaborador/Documents/projetos/FinSimples/analise/datasets/cotacoes_resumidas_2018.csv\", sep=\",\")\n",
    "\n",
    "\n",
    "# 2. Concatenar\n",
    "df = pd.concat([df_2017, df_2018], ignore_index=True)\n",
    "\n",
    "# 3. Converter datas\n",
    "df['data_pregao'] = pd.to_datetime(df['data_pregao'])\n",
    "\n",
    "# 4. Remover R$ e converter preços\n",
    "preco_cols = ['preco_abertura', 'preco_maximo', 'preco_minimo', 'preco_medio', 'preco_fechamento']\n",
    "df[preco_cols] = df[preco_cols].replace('R\\$', '', regex=True).astype(float)\n",
    "\n",
    "# 5. Criar coluna 'ano' e 'semana'\n",
    "df['ano'] = df['data_pregao'].dt.isocalendar().year\n",
    "df['semana'] = df['data_pregao'].dt.isocalendar().week\n",
    "\n",
    "# 6. Agrupar manualmente por ação + ano + semana\n",
    "df_semana = df.groupby(['cod_negociacao', 'ano', 'semana']).agg({\n",
    "    'data_pregao': 'first',\n",
    "    'preco_abertura': 'first',\n",
    "    'preco_maximo': 'max',\n",
    "    'preco_minimo': 'min',\n",
    "    'preco_fechamento': 'last',\n",
    "    'preco_medio': 'mean',\n",
    "    'volume': 'sum',\n",
    "    'qtd_negocios': 'sum',\n",
    "    'nome_empresa': 'first',\n",
    "    'tipo_mercado': 'first',\n",
    "    'especificacao': 'first',\n",
    "    'moeda': 'first'\n",
    "})\n",
    "\n",
    "# 7. Ajustar o multi-index\n",
    "# df_semana.columns = ['_'.join(col).strip() for col in df_semana.columns.values]\n",
    "df_semana = df_semana.reset_index()\n",
    "\n",
    "# 8. Se quiser, criar uma data de referência (como o início da semana)\n",
    "# df_semana['data_pregao'] = df_semana['data_pregao_first']\n",
    "# df_semana.drop(columns=['data_pregao_first', 'data_pregao_last'], inplace=True)\n"
   ]
  },
  {
   "cell_type": "code",
   "execution_count": 27,
   "id": "ccfb87f5",
   "metadata": {},
   "outputs": [],
   "source": [
    "df_semana.to_csv(\"acoes_semanais2017_2018.csv\", index=False)"
   ]
  },
  {
   "cell_type": "code",
   "execution_count": 28,
   "id": "55410624",
   "metadata": {},
   "outputs": [
    {
     "data": {
      "text/plain": [
       "cod_negociacao      0\n",
       "ano                 0\n",
       "semana              0\n",
       "data_pregao         0\n",
       "preco_abertura      0\n",
       "preco_maximo        0\n",
       "preco_minimo        0\n",
       "preco_fechamento    0\n",
       "preco_medio         0\n",
       "volume              0\n",
       "qtd_negocios        0\n",
       "nome_empresa        0\n",
       "tipo_mercado        0\n",
       "especificacao       0\n",
       "moeda               0\n",
       "dtype: int64"
      ]
     },
     "execution_count": 28,
     "metadata": {},
     "output_type": "execute_result"
    }
   ],
   "source": [
    "df_semana.isnull().sum()"
   ]
  },
  {
   "cell_type": "code",
   "execution_count": 17,
   "id": "5779fc9b",
   "metadata": {},
   "outputs": [
    {
     "data": {
      "text/plain": [
       "(391124, 17)"
      ]
     },
     "execution_count": 17,
     "metadata": {},
     "output_type": "execute_result"
    }
   ],
   "source": [
    "df_semana.shape"
   ]
  },
  {
   "cell_type": "code",
   "execution_count": 10,
   "id": "0b8e7d37",
   "metadata": {},
   "outputs": [
    {
     "data": {
      "text/plain": [
       "data_pregao         0\n",
       "cod_negociacao      0\n",
       "tipo_mercado        0\n",
       "nome_empresa        0\n",
       "especificacao       0\n",
       "moeda               0\n",
       "preco_abertura      0\n",
       "preco_maximo        0\n",
       "preco_minimo        0\n",
       "preco_medio         0\n",
       "preco_fechamento    0\n",
       "qtd_negocios        0\n",
       "volume              0\n",
       "dtype: int64"
      ]
     },
     "execution_count": 10,
     "metadata": {},
     "output_type": "execute_result"
    }
   ],
   "source": [
    "df_2017.isnull().sum()"
   ]
  },
  {
   "cell_type": "code",
   "execution_count": 11,
   "id": "d8fe18ef",
   "metadata": {},
   "outputs": [
    {
     "data": {
      "text/plain": [
       "data_pregao         0\n",
       "cod_negociacao      0\n",
       "tipo_mercado        0\n",
       "nome_empresa        0\n",
       "especificacao       0\n",
       "moeda               0\n",
       "preco_abertura      0\n",
       "preco_maximo        0\n",
       "preco_minimo        0\n",
       "preco_medio         0\n",
       "preco_fechamento    0\n",
       "qtd_negocios        0\n",
       "volume              0\n",
       "dtype: int64"
      ]
     },
     "execution_count": 11,
     "metadata": {},
     "output_type": "execute_result"
    }
   ],
   "source": [
    "df_2018.isnull().sum()"
   ]
  },
  {
   "cell_type": "code",
   "execution_count": 12,
   "id": "ffab5b9a",
   "metadata": {},
   "outputs": [
    {
     "data": {
      "text/plain": [
       "(489115, 13)"
      ]
     },
     "execution_count": 12,
     "metadata": {},
     "output_type": "execute_result"
    }
   ],
   "source": [
    "df_2017.shape"
   ]
  },
  {
   "cell_type": "code",
   "execution_count": 13,
   "id": "a6b6df51",
   "metadata": {},
   "outputs": [
    {
     "data": {
      "text/plain": [
       "(580155, 13)"
      ]
     },
     "execution_count": 13,
     "metadata": {},
     "output_type": "execute_result"
    }
   ],
   "source": [
    "df_2018.shape"
   ]
  }
 ],
 "metadata": {
  "kernelspec": {
   "display_name": "Python 3",
   "language": "python",
   "name": "python3"
  },
  "language_info": {
   "codemirror_mode": {
    "name": "ipython",
    "version": 3
   },
   "file_extension": ".py",
   "mimetype": "text/x-python",
   "name": "python",
   "nbconvert_exporter": "python",
   "pygments_lexer": "ipython3",
   "version": "3.13.1"
  }
 },
 "nbformat": 4,
 "nbformat_minor": 5
}
