{
 "cells": [
  {
   "cell_type": "markdown",
   "metadata": {
    "vscode": {
     "languageId": "raw"
    }
   },
   "source": [
    "## Análise de Cotações — Sumário em Tópicos\n",
    "\n",
    "- **Escopo**: consolidação diária por `cod_negociacao` e análises aplicadas de integridade, outliers, liquidez, retornos, risco e dependências.\n",
    "- **Integridade dos dados**:\n",
    "  - Consistência de preços: `preco_maximo ≥ preco_minimo`, `preco_medio` entre `[min,max]`.\n",
    "  - Sinais inválidos: negativos e `preco_fechamento == 0`.\n",
    "- **Outliers**:\n",
    "  - Preço: flag para `preco_medio > 100.000` e `< 0,01`.\n",
    "  - Volume: flag por quantil alto `p99.9`.\n",
    "- **Liquidez por ticker**:\n",
    "  - Medianas de `qtd_negocios` e `volume` por dia.\n",
    "  - Seleção de `top_liquidos` para reduzir ruído e custo computacional.\n",
    "- **Retornos e “mercado”**:\n",
    "  - `retorno = pct_change(fechamento)` por ticker.\n",
    "  - Índice equal-weight diário em tickers mais líquidos (`retorno_mkt`).\n"
   ]
  },
  {
   "cell_type": "code",
   "execution_count": 1,
   "metadata": {},
   "outputs": [],
   "source": [
    "import pandas as pd\n",
    "import numpy as np"
   ]
  },
  {
   "cell_type": "code",
   "execution_count": 8,
   "metadata": {},
   "outputs": [
    {
     "data": {
      "text/html": [
       "<div>\n",
       "<style scoped>\n",
       "    .dataframe tbody tr th:only-of-type {\n",
       "        vertical-align: middle;\n",
       "    }\n",
       "\n",
       "    .dataframe tbody tr th {\n",
       "        vertical-align: top;\n",
       "    }\n",
       "\n",
       "    .dataframe thead th {\n",
       "        text-align: right;\n",
       "    }\n",
       "</style>\n",
       "<table border=\"1\" class=\"dataframe\">\n",
       "  <thead>\n",
       "    <tr style=\"text-align: right;\">\n",
       "      <th></th>\n",
       "      <th>data_pregao</th>\n",
       "      <th>cod_negociacao</th>\n",
       "      <th>tipo_mercado</th>\n",
       "      <th>nome_empresa</th>\n",
       "      <th>especificacao</th>\n",
       "      <th>moeda</th>\n",
       "      <th>preco_abertura</th>\n",
       "      <th>preco_maximo</th>\n",
       "      <th>preco_minimo</th>\n",
       "      <th>preco_medio</th>\n",
       "      <th>preco_fechamento</th>\n",
       "      <th>qtd_negocios</th>\n",
       "      <th>volume</th>\n",
       "    </tr>\n",
       "  </thead>\n",
       "  <tbody>\n",
       "    <tr>\n",
       "      <th>0</th>\n",
       "      <td>2018-01-02</td>\n",
       "      <td>AALR3</td>\n",
       "      <td>10</td>\n",
       "      <td>ALLIAR</td>\n",
       "      <td>ON      NM</td>\n",
       "      <td>R$</td>\n",
       "      <td>14.94</td>\n",
       "      <td>15.16</td>\n",
       "      <td>14.70</td>\n",
       "      <td>14.84</td>\n",
       "      <td>14.89</td>\n",
       "      <td>403</td>\n",
       "      <td>1402991</td>\n",
       "    </tr>\n",
       "    <tr>\n",
       "      <th>1</th>\n",
       "      <td>2018-01-02</td>\n",
       "      <td>AALR3F</td>\n",
       "      <td>20</td>\n",
       "      <td>ALLIAR</td>\n",
       "      <td>ON      NM</td>\n",
       "      <td>R$</td>\n",
       "      <td>14.79</td>\n",
       "      <td>14.93</td>\n",
       "      <td>14.79</td>\n",
       "      <td>14.86</td>\n",
       "      <td>14.80</td>\n",
       "      <td>7</td>\n",
       "      <td>3343</td>\n",
       "    </tr>\n",
       "    <tr>\n",
       "      <th>2</th>\n",
       "      <td>2018-01-02</td>\n",
       "      <td>AAPL34</td>\n",
       "      <td>10</td>\n",
       "      <td>APPLE</td>\n",
       "      <td>DRN</td>\n",
       "      <td>R$</td>\n",
       "      <td>56.81</td>\n",
       "      <td>56.81</td>\n",
       "      <td>56.30</td>\n",
       "      <td>56.38</td>\n",
       "      <td>56.30</td>\n",
       "      <td>4</td>\n",
       "      <td>50747</td>\n",
       "    </tr>\n",
       "    <tr>\n",
       "      <th>3</th>\n",
       "      <td>2018-01-02</td>\n",
       "      <td>AAPL34F</td>\n",
       "      <td>20</td>\n",
       "      <td>APPLE</td>\n",
       "      <td>DRN</td>\n",
       "      <td>R$</td>\n",
       "      <td>56.81</td>\n",
       "      <td>65.00</td>\n",
       "      <td>56.54</td>\n",
       "      <td>59.63</td>\n",
       "      <td>56.54</td>\n",
       "      <td>7</td>\n",
       "      <td>3637</td>\n",
       "    </tr>\n",
       "    <tr>\n",
       "      <th>4</th>\n",
       "      <td>2018-01-02</td>\n",
       "      <td>ABCB2</td>\n",
       "      <td>10</td>\n",
       "      <td>ABC BRASIL</td>\n",
       "      <td>DIR PRE N2</td>\n",
       "      <td>R$</td>\n",
       "      <td>4.11</td>\n",
       "      <td>4.20</td>\n",
       "      <td>4.11</td>\n",
       "      <td>4.14</td>\n",
       "      <td>4.20</td>\n",
       "      <td>6</td>\n",
       "      <td>4977</td>\n",
       "    </tr>\n",
       "  </tbody>\n",
       "</table>\n",
       "</div>"
      ],
      "text/plain": [
       "  data_pregao cod_negociacao  tipo_mercado nome_empresa especificacao moeda  \\\n",
       "0  2018-01-02          AALR3            10       ALLIAR    ON      NM    R$   \n",
       "1  2018-01-02         AALR3F            20       ALLIAR    ON      NM    R$   \n",
       "2  2018-01-02         AAPL34            10        APPLE           DRN    R$   \n",
       "3  2018-01-02        AAPL34F            20        APPLE           DRN    R$   \n",
       "4  2018-01-02          ABCB2            10   ABC BRASIL    DIR PRE N2    R$   \n",
       "\n",
       "   preco_abertura  preco_maximo  preco_minimo  preco_medio  preco_fechamento  \\\n",
       "0           14.94         15.16         14.70        14.84             14.89   \n",
       "1           14.79         14.93         14.79        14.86             14.80   \n",
       "2           56.81         56.81         56.30        56.38             56.30   \n",
       "3           56.81         65.00         56.54        59.63             56.54   \n",
       "4            4.11          4.20          4.11         4.14              4.20   \n",
       "\n",
       "   qtd_negocios   volume  \n",
       "0           403  1402991  \n",
       "1             7     3343  \n",
       "2             4    50747  \n",
       "3             7     3637  \n",
       "4             6     4977  "
      ]
     },
     "execution_count": 8,
     "metadata": {},
     "output_type": "execute_result"
    }
   ],
   "source": [
    "df = pd.read_csv('datasets/cotacoes_resumidas_2018.csv')\n",
    "\n",
    "df.head()"
   ]
  },
  {
   "cell_type": "markdown",
   "metadata": {},
   "source": [
    "## Análise Superficial"
   ]
  },
  {
   "cell_type": "code",
   "execution_count": 9,
   "metadata": {},
   "outputs": [
    {
     "data": {
      "text/plain": [
       "data_pregao         0\n",
       "cod_negociacao      0\n",
       "tipo_mercado        0\n",
       "nome_empresa        0\n",
       "especificacao       0\n",
       "moeda               0\n",
       "preco_abertura      0\n",
       "preco_maximo        0\n",
       "preco_minimo        0\n",
       "preco_medio         0\n",
       "preco_fechamento    0\n",
       "qtd_negocios        0\n",
       "volume              0\n",
       "dtype: int64"
      ]
     },
     "execution_count": 9,
     "metadata": {},
     "output_type": "execute_result"
    }
   ],
   "source": [
    "df.isnull().sum()"
   ]
  },
  {
   "cell_type": "code",
   "execution_count": 10,
   "metadata": {},
   "outputs": [
    {
     "data": {
      "text/plain": [
       "data_pregao          object\n",
       "cod_negociacao       object\n",
       "tipo_mercado          int64\n",
       "nome_empresa         object\n",
       "especificacao        object\n",
       "moeda                object\n",
       "preco_abertura      float64\n",
       "preco_maximo        float64\n",
       "preco_minimo        float64\n",
       "preco_medio         float64\n",
       "preco_fechamento    float64\n",
       "qtd_negocios          int64\n",
       "volume                int64\n",
       "dtype: object"
      ]
     },
     "execution_count": 10,
     "metadata": {},
     "output_type": "execute_result"
    }
   ],
   "source": [
    "df.dtypes"
   ]
  },
  {
   "cell_type": "code",
   "execution_count": 11,
   "metadata": {},
   "outputs": [
    {
     "data": {
      "text/html": [
       "<div>\n",
       "<style scoped>\n",
       "    .dataframe tbody tr th:only-of-type {\n",
       "        vertical-align: middle;\n",
       "    }\n",
       "\n",
       "    .dataframe tbody tr th {\n",
       "        vertical-align: top;\n",
       "    }\n",
       "\n",
       "    .dataframe thead th {\n",
       "        text-align: right;\n",
       "    }\n",
       "</style>\n",
       "<table border=\"1\" class=\"dataframe\">\n",
       "  <thead>\n",
       "    <tr style=\"text-align: right;\">\n",
       "      <th></th>\n",
       "      <th>tipo_mercado</th>\n",
       "      <th>preco_abertura</th>\n",
       "      <th>preco_maximo</th>\n",
       "      <th>preco_minimo</th>\n",
       "      <th>preco_medio</th>\n",
       "      <th>preco_fechamento</th>\n",
       "      <th>qtd_negocios</th>\n",
       "      <th>volume</th>\n",
       "    </tr>\n",
       "  </thead>\n",
       "  <tbody>\n",
       "    <tr>\n",
       "      <th>count</th>\n",
       "      <td>580155.000000</td>\n",
       "      <td>580155.000000</td>\n",
       "      <td>580155.000000</td>\n",
       "      <td>580155.000000</td>\n",
       "      <td>580155.000000</td>\n",
       "      <td>580155.000000</td>\n",
       "      <td>580155.000000</td>\n",
       "      <td>5.801550e+05</td>\n",
       "    </tr>\n",
       "    <tr>\n",
       "      <th>mean</th>\n",
       "      <td>48.310943</td>\n",
       "      <td>100.388153</td>\n",
       "      <td>101.500984</td>\n",
       "      <td>99.297951</td>\n",
       "      <td>100.327645</td>\n",
       "      <td>100.386051</td>\n",
       "      <td>529.126721</td>\n",
       "      <td>5.198086e+06</td>\n",
       "    </tr>\n",
       "    <tr>\n",
       "      <th>std</th>\n",
       "      <td>29.189584</td>\n",
       "      <td>1600.478371</td>\n",
       "      <td>1601.702154</td>\n",
       "      <td>1599.389329</td>\n",
       "      <td>1600.421272</td>\n",
       "      <td>1600.556509</td>\n",
       "      <td>2894.814529</td>\n",
       "      <td>5.604711e+07</td>\n",
       "    </tr>\n",
       "    <tr>\n",
       "      <th>min</th>\n",
       "      <td>10.000000</td>\n",
       "      <td>0.010000</td>\n",
       "      <td>0.010000</td>\n",
       "      <td>0.010000</td>\n",
       "      <td>0.010000</td>\n",
       "      <td>0.010000</td>\n",
       "      <td>1.000000</td>\n",
       "      <td>0.000000e+00</td>\n",
       "    </tr>\n",
       "    <tr>\n",
       "      <th>25%</th>\n",
       "      <td>20.000000</td>\n",
       "      <td>0.600000</td>\n",
       "      <td>0.650000</td>\n",
       "      <td>0.550000</td>\n",
       "      <td>0.600000</td>\n",
       "      <td>0.600000</td>\n",
       "      <td>2.000000</td>\n",
       "      <td>1.888000e+03</td>\n",
       "    </tr>\n",
       "    <tr>\n",
       "      <th>50%</th>\n",
       "      <td>70.000000</td>\n",
       "      <td>2.680000</td>\n",
       "      <td>2.790000</td>\n",
       "      <td>2.580000</td>\n",
       "      <td>2.670000</td>\n",
       "      <td>2.680000</td>\n",
       "      <td>5.000000</td>\n",
       "      <td>1.595100e+04</td>\n",
       "    </tr>\n",
       "    <tr>\n",
       "      <th>75%</th>\n",
       "      <td>70.000000</td>\n",
       "      <td>18.880000</td>\n",
       "      <td>19.030000</td>\n",
       "      <td>18.600000</td>\n",
       "      <td>18.830000</td>\n",
       "      <td>18.860000</td>\n",
       "      <td>34.000000</td>\n",
       "      <td>1.423740e+05</td>\n",
       "    </tr>\n",
       "    <tr>\n",
       "      <th>max</th>\n",
       "      <td>80.000000</td>\n",
       "      <td>110000.000000</td>\n",
       "      <td>110000.000000</td>\n",
       "      <td>110000.000000</td>\n",
       "      <td>110000.000000</td>\n",
       "      <td>110000.000000</td>\n",
       "      <td>97176.000000</td>\n",
       "      <td>1.077648e+10</td>\n",
       "    </tr>\n",
       "  </tbody>\n",
       "</table>\n",
       "</div>"
      ],
      "text/plain": [
       "        tipo_mercado  preco_abertura   preco_maximo   preco_minimo  \\\n",
       "count  580155.000000   580155.000000  580155.000000  580155.000000   \n",
       "mean       48.310943      100.388153     101.500984      99.297951   \n",
       "std        29.189584     1600.478371    1601.702154    1599.389329   \n",
       "min        10.000000        0.010000       0.010000       0.010000   \n",
       "25%        20.000000        0.600000       0.650000       0.550000   \n",
       "50%        70.000000        2.680000       2.790000       2.580000   \n",
       "75%        70.000000       18.880000      19.030000      18.600000   \n",
       "max        80.000000   110000.000000  110000.000000  110000.000000   \n",
       "\n",
       "         preco_medio  preco_fechamento   qtd_negocios        volume  \n",
       "count  580155.000000     580155.000000  580155.000000  5.801550e+05  \n",
       "mean      100.327645        100.386051     529.126721  5.198086e+06  \n",
       "std      1600.421272       1600.556509    2894.814529  5.604711e+07  \n",
       "min         0.010000          0.010000       1.000000  0.000000e+00  \n",
       "25%         0.600000          0.600000       2.000000  1.888000e+03  \n",
       "50%         2.670000          2.680000       5.000000  1.595100e+04  \n",
       "75%        18.830000         18.860000      34.000000  1.423740e+05  \n",
       "max    110000.000000     110000.000000   97176.000000  1.077648e+10  "
      ]
     },
     "execution_count": 11,
     "metadata": {},
     "output_type": "execute_result"
    }
   ],
   "source": [
    "df.describe()\n"
   ]
  },
  {
   "cell_type": "code",
   "execution_count": 12,
   "metadata": {},
   "outputs": [
    {
     "name": "stdout",
     "output_type": "stream",
     "text": [
      "Tem NaN? 0\n",
      "Tem inf? 0\n",
      "Valores > 100_000: 2\n"
     ]
    }
   ],
   "source": [
    "\n",
    "y = df[\"preco_medio\"]\n",
    "\n",
    "print(\"Tem NaN?\", y.isna().sum())\n",
    "print(\"Tem inf?\", np.isinf(y).sum())\n",
    "print(\"Valores > 100_000:\", (y > 100_000).sum())  # >100 mil pode ser fora do padrão"
   ]
  },
  {
   "cell_type": "markdown",
   "metadata": {},
   "source": [
    "identificamos valores acima de 100.000 como preço médio da ação, o que não faz sentido. Vamos remover esse tipo de outlier posteriormente"
   ]
  },
  {
   "cell_type": "code",
   "execution_count": 13,
   "metadata": {},
   "outputs": [
    {
     "data": {
      "text/plain": [
       "cod_negociacao\n",
       "IBOVP110E    1\n",
       "IBOVR110E    1\n",
       "Name: count, dtype: int64"
      ]
     },
     "execution_count": 13,
     "metadata": {},
     "output_type": "execute_result"
    }
   ],
   "source": [
    "df[df['preco_medio'] > 100000]['cod_negociacao'].value_counts()"
   ]
  },
  {
   "cell_type": "markdown",
   "metadata": {
    "vscode": {
     "languageId": "raw"
    }
   },
   "source": [
    "### Integridade e outliers — como ler\n",
    "- **Objetivo**: validar consistência dos preços e sinalizar valores suspeitos.\n",
    "- **Checagens**: `preco_maximo ≥ preco_minimo`, `preco_medio ∈ [min,max]`, negativos e fechamento igual a zero.\n",
    "- **Outliers**: `preco_medio > 100.000` ou `< 0,01`; volume acima do `p99.9`.\n",
    "- **Ação sugerida**: filtrar/ajustar outliers antes de modelagem; revisar tickers com maior incidência.\n"
   ]
  },
  {
   "cell_type": "code",
   "execution_count": 14,
   "metadata": {},
   "outputs": [
    {
     "name": "stdout",
     "output_type": "stream",
     "text": [
      "max < min: 0\n",
      "médio fora do intervalo: 3\n",
      "valores negativos em colunas-chave: 0\n",
      "fechamento igual a zero: 0\n"
     ]
    }
   ],
   "source": [
    "# Regras de integridade de preços\n",
    "viol_max_min = (df['preco_maximo'] < df['preco_minimo']).sum()\n",
    "viol_media_fora = ((df['preco_medio'] < df['preco_minimo']) | (df['preco_medio'] > df['preco_maximo'])).sum()\n",
    "negativos = (df[['preco_abertura','preco_maximo','preco_minimo','preco_medio','preco_fechamento','qtd_negocios','volume']] < 0).any(axis=1).sum()\n",
    "zeros_close = (df['preco_fechamento'] == 0).sum()\n",
    "\n",
    "print('max < min:', viol_max_min)\n",
    "print('médio fora do intervalo:', viol_media_fora)\n",
    "print('valores negativos em colunas-chave:', negativos)\n",
    "print('fechamento igual a zero:', zeros_close)\n"
   ]
  },
  {
   "cell_type": "code",
   "execution_count": 15,
   "metadata": {},
   "outputs": [
    {
     "name": "stdout",
     "output_type": "stream",
     "text": [
      "linhas com preco_medio > 100k: 2\n",
      "linhas com preco_medio < 0.01: 0\n",
      "linhas com volume acima do p99.9%: 581\n"
     ]
    }
   ],
   "source": [
    "# Outliers de preço e volume\n",
    "out_preco_alto = df['preco_medio'] > 100_000\n",
    "out_preco_baixo = df['preco_medio'] < 0.01\n",
    "# Usa quantil alto como referência de outlier de volume sem depender de valor absoluto\n",
    "o_utlimo_quantil = df['volume'].quantile(0.999)\n",
    "out_volume_alto = df['volume'] > o_utlimo_quantil\n",
    "\n",
    "print('linhas com preco_medio > 100k:', int(out_preco_alto.sum()))\n",
    "print('linhas com preco_medio < 0.01:', int(out_preco_baixo.sum()))\n",
    "print('linhas com volume acima do p99.9%:', int(out_volume_alto.sum()))\n",
    "\n",
    "if out_preco_alto.any():\n",
    "    top_tickers_out = df.loc[out_preco_alto, 'cod_negociacao'].value_counts().head(15)\n",
    "    top_tickers_out\n"
   ]
  },
  {
   "cell_type": "markdown",
   "metadata": {
    "vscode": {
     "languageId": "raw"
    }
   },
   "source": [
    "### Liquidez — critérios e leitura\n",
    "- **Agregação diária**: soma de `qtd_negocios` e `volume`; `fechamento` do dia.\n",
    "- **Métricas**: medianas por ticker (`qtd_negocios`, `volume`) e nº de dias negociados.\n",
    "- **Seleção**: `top_liquidos` (100) para reduzir ruído e custo nas análises seguintes.\n",
    "- **Interpretação**: maiores medianas → maior negociabilidade/qualidade de preço.\n"
   ]
  },
  {
   "cell_type": "code",
   "execution_count": 16,
   "metadata": {},
   "outputs": [
    {
     "data": {
      "text/html": [
       "<div>\n",
       "<style scoped>\n",
       "    .dataframe tbody tr th:only-of-type {\n",
       "        vertical-align: middle;\n",
       "    }\n",
       "\n",
       "    .dataframe tbody tr th {\n",
       "        vertical-align: top;\n",
       "    }\n",
       "\n",
       "    .dataframe thead th {\n",
       "        text-align: right;\n",
       "    }\n",
       "</style>\n",
       "<table border=\"1\" class=\"dataframe\">\n",
       "  <thead>\n",
       "    <tr style=\"text-align: right;\">\n",
       "      <th></th>\n",
       "      <th>mediana_negocios</th>\n",
       "      <th>mediana_volume</th>\n",
       "      <th>dias</th>\n",
       "    </tr>\n",
       "    <tr>\n",
       "      <th>cod_negociacao</th>\n",
       "      <th></th>\n",
       "      <th></th>\n",
       "      <th></th>\n",
       "    </tr>\n",
       "  </thead>\n",
       "  <tbody>\n",
       "    <tr>\n",
       "      <th>PETR4</th>\n",
       "      <td>48855.0</td>\n",
       "      <td>1.196356e+09</td>\n",
       "      <td>245</td>\n",
       "    </tr>\n",
       "    <tr>\n",
       "      <th>VALE3</th>\n",
       "      <td>30211.0</td>\n",
       "      <td>8.066895e+08</td>\n",
       "      <td>245</td>\n",
       "    </tr>\n",
       "    <tr>\n",
       "      <th>ITUB4</th>\n",
       "      <td>28371.0</td>\n",
       "      <td>5.726220e+08</td>\n",
       "      <td>245</td>\n",
       "    </tr>\n",
       "    <tr>\n",
       "      <th>BBDC4</th>\n",
       "      <td>27020.0</td>\n",
       "      <td>3.980033e+08</td>\n",
       "      <td>245</td>\n",
       "    </tr>\n",
       "    <tr>\n",
       "      <th>ITSA4</th>\n",
       "      <td>25518.0</td>\n",
       "      <td>2.020711e+08</td>\n",
       "      <td>245</td>\n",
       "    </tr>\n",
       "    <tr>\n",
       "      <th>ABEV3</th>\n",
       "      <td>24720.0</td>\n",
       "      <td>2.785946e+08</td>\n",
       "      <td>245</td>\n",
       "    </tr>\n",
       "    <tr>\n",
       "      <th>B3SA3</th>\n",
       "      <td>23559.0</td>\n",
       "      <td>2.202551e+08</td>\n",
       "      <td>189</td>\n",
       "    </tr>\n",
       "    <tr>\n",
       "      <th>BBAS3</th>\n",
       "      <td>22602.0</td>\n",
       "      <td>3.697146e+08</td>\n",
       "      <td>245</td>\n",
       "    </tr>\n",
       "    <tr>\n",
       "      <th>BVMF3</th>\n",
       "      <td>21418.5</td>\n",
       "      <td>2.134370e+08</td>\n",
       "      <td>56</td>\n",
       "    </tr>\n",
       "    <tr>\n",
       "      <th>GGBR4</th>\n",
       "      <td>19035.0</td>\n",
       "      <td>1.742905e+08</td>\n",
       "      <td>245</td>\n",
       "    </tr>\n",
       "    <tr>\n",
       "      <th>KROT3</th>\n",
       "      <td>18850.0</td>\n",
       "      <td>9.887126e+07</td>\n",
       "      <td>245</td>\n",
       "    </tr>\n",
       "    <tr>\n",
       "      <th>CCRO3</th>\n",
       "      <td>18772.0</td>\n",
       "      <td>7.354678e+07</td>\n",
       "      <td>245</td>\n",
       "    </tr>\n",
       "    <tr>\n",
       "      <th>CIEL3</th>\n",
       "      <td>17546.0</td>\n",
       "      <td>1.126975e+08</td>\n",
       "      <td>245</td>\n",
       "    </tr>\n",
       "    <tr>\n",
       "      <th>CMIG4</th>\n",
       "      <td>16121.0</td>\n",
       "      <td>8.371868e+07</td>\n",
       "      <td>245</td>\n",
       "    </tr>\n",
       "    <tr>\n",
       "      <th>BRFS3</th>\n",
       "      <td>15870.0</td>\n",
       "      <td>1.234316e+08</td>\n",
       "      <td>245</td>\n",
       "    </tr>\n",
       "  </tbody>\n",
       "</table>\n",
       "</div>"
      ],
      "text/plain": [
       "                mediana_negocios  mediana_volume  dias\n",
       "cod_negociacao                                        \n",
       "PETR4                    48855.0    1.196356e+09   245\n",
       "VALE3                    30211.0    8.066895e+08   245\n",
       "ITUB4                    28371.0    5.726220e+08   245\n",
       "BBDC4                    27020.0    3.980033e+08   245\n",
       "ITSA4                    25518.0    2.020711e+08   245\n",
       "ABEV3                    24720.0    2.785946e+08   245\n",
       "B3SA3                    23559.0    2.202551e+08   189\n",
       "BBAS3                    22602.0    3.697146e+08   245\n",
       "BVMF3                    21418.5    2.134370e+08    56\n",
       "GGBR4                    19035.0    1.742905e+08   245\n",
       "KROT3                    18850.0    9.887126e+07   245\n",
       "CCRO3                    18772.0    7.354678e+07   245\n",
       "CIEL3                    17546.0    1.126975e+08   245\n",
       "CMIG4                    16121.0    8.371868e+07   245\n",
       "BRFS3                    15870.0    1.234316e+08   245"
      ]
     },
     "execution_count": 16,
     "metadata": {},
     "output_type": "execute_result"
    }
   ],
   "source": [
    "# Métricas de liquidez por ticker (agregação diária)\n",
    "# Construímos um dataset diário por ticker para facilitar análises e reduzir custo computacional\n",
    "\n",
    "diaria = (df.groupby(['cod_negociacao','data_pregao'], as_index=False)\n",
    "            .agg(qtd_negocios=('qtd_negocios','sum'),\n",
    "                 volume=('volume','sum'),\n",
    "                 fechamento=('preco_fechamento','last'),\n",
    "                 maximo=('preco_maximo','max'),\n",
    "                 minimo=('preco_minimo','min')))\n",
    "\n",
    "liq = (diaria.groupby('cod_negociacao')\n",
    "            .agg(mediana_negocios=('qtd_negocios','median'),\n",
    "                 mediana_volume=('volume','median'),\n",
    "                 dias=('data_pregao','nunique'))\n",
    "            .sort_values(['mediana_negocios','mediana_volume'], ascending=False))\n",
    "\n",
    "top_liquidos = liq.head(100).index.to_list()\n",
    "liq.head(15)\n"
   ]
  },
  {
   "cell_type": "markdown",
   "metadata": {
    "vscode": {
     "languageId": "raw"
    }
   },
   "source": [
    "### Retornos e mercado equal-weight\n",
    "- **Cálculo**: `retorno = pct_change(fechamento)` por `cod_negociacao`.\n",
    "- **Mercado (EW)**: média simples dos retornos dos tickers em `top_liquidos` por dia.\n",
    "- **Uso**: base para análise de extremos, volatilidade e correlações.\n",
    "- **Observação**: verifique gaps/zeros antes de interpretar retornos.\n"
   ]
  },
  {
   "cell_type": "code",
   "execution_count": 17,
   "metadata": {},
   "outputs": [
    {
     "data": {
      "text/html": [
       "<div>\n",
       "<style scoped>\n",
       "    .dataframe tbody tr th:only-of-type {\n",
       "        vertical-align: middle;\n",
       "    }\n",
       "\n",
       "    .dataframe tbody tr th {\n",
       "        vertical-align: top;\n",
       "    }\n",
       "\n",
       "    .dataframe thead th {\n",
       "        text-align: right;\n",
       "    }\n",
       "</style>\n",
       "<table border=\"1\" class=\"dataframe\">\n",
       "  <thead>\n",
       "    <tr style=\"text-align: right;\">\n",
       "      <th></th>\n",
       "      <th>retorno_mkt</th>\n",
       "    </tr>\n",
       "  </thead>\n",
       "  <tbody>\n",
       "    <tr>\n",
       "      <th>count</th>\n",
       "      <td>244.000000</td>\n",
       "    </tr>\n",
       "    <tr>\n",
       "      <th>mean</th>\n",
       "      <td>0.000973</td>\n",
       "    </tr>\n",
       "    <tr>\n",
       "      <th>std</th>\n",
       "      <td>0.016277</td>\n",
       "    </tr>\n",
       "    <tr>\n",
       "      <th>min</th>\n",
       "      <td>-0.053130</td>\n",
       "    </tr>\n",
       "    <tr>\n",
       "      <th>25%</th>\n",
       "      <td>-0.009062</td>\n",
       "    </tr>\n",
       "    <tr>\n",
       "      <th>50%</th>\n",
       "      <td>0.000931</td>\n",
       "    </tr>\n",
       "    <tr>\n",
       "      <th>75%</th>\n",
       "      <td>0.009633</td>\n",
       "    </tr>\n",
       "    <tr>\n",
       "      <th>max</th>\n",
       "      <td>0.059295</td>\n",
       "    </tr>\n",
       "  </tbody>\n",
       "</table>\n",
       "</div>"
      ],
      "text/plain": [
       "       retorno_mkt\n",
       "count   244.000000\n",
       "mean      0.000973\n",
       "std       0.016277\n",
       "min      -0.053130\n",
       "25%      -0.009062\n",
       "50%       0.000931\n",
       "75%       0.009633\n",
       "max       0.059295"
      ]
     },
     "execution_count": 17,
     "metadata": {},
     "output_type": "execute_result"
    }
   ],
   "source": [
    "# Retornos diários por ticker a partir do fechamento\n",
    "\n",
    "diaria = diaria.sort_values(['cod_negociacao','data_pregao'])\n",
    "diaria['retorno'] = diaria.groupby('cod_negociacao')['fechamento'].pct_change()\n",
    "\n",
    "# Retorno de mercado equal-weight usando apenas tickers mais líquidos (reduz ruído)\n",
    "retornos_liquidos = diaria[diaria['cod_negociacao'].isin(top_liquidos)]\n",
    "mkt = (retornos_liquidos\n",
    "       .dropna(subset=['retorno'])\n",
    "       .groupby('data_pregao')['retorno']\n",
    "       .mean()\n",
    "       .to_frame('retorno_mkt')\n",
    "       .reset_index())\n",
    "\n",
    "mkt.describe()\n"
   ]
  },
  {
   "cell_type": "markdown",
   "metadata": {
    "vscode": {
     "languageId": "raw"
    }
   },
   "source": [
    "### Interpretação e leitura\n",
    "- **Integridade**: se houver `max < min`, `médio` fora de `[min,max]`, negativos ou `fechamento == 0`, trate como dado inconsistente.\n",
    "- **Outliers**: valores marcados (preço/volume) podem distorcer estatísticas; considere excluir ou winsorizar.\n",
    "- **Liquidez**: use `mediana_negocios` e `mediana_volume` para priorizar ativos com melhor formação de preço.\n",
    "- **Retornos**: calcule a partir do `fechamento`; interprete o índice equal-weight como proxy do “mercado”."
   ]
  },
  {
   "cell_type": "markdown",
   "metadata": {},
   "source": [
    "### Próximos passos\n",
    "Na treinamento vamos aplicar transformações e tratamento dos dados para reduzir o impacto de outliers e dados sem sentido"
   ]
  },
  {
   "cell_type": "markdown",
   "metadata": {},
   "source": []
  }
 ],
 "metadata": {
  "kernelspec": {
   "display_name": "Python 3",
   "language": "python",
   "name": "python3"
  },
  "language_info": {
   "codemirror_mode": {
    "name": "ipython",
    "version": 3
   },
   "file_extension": ".py",
   "mimetype": "text/x-python",
   "name": "python",
   "nbconvert_exporter": "python",
   "pygments_lexer": "ipython3",
   "version": "3.13.1"
  }
 },
 "nbformat": 4,
 "nbformat_minor": 2
}
