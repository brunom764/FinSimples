{
 "cells": [
  {
   "cell_type": "code",
   "execution_count": 2,
   "id": "355c140a",
   "metadata": {},
   "outputs": [
    {
     "name": "stdout",
     "output_type": "stream",
     "text": [
      "Erro 403: {\"error\":\"Invalid token\"}\n",
      "\n"
     ]
    }
   ],
   "source": [
    "import requests\n",
    "\n",
    "# Substitua com seu token da API\n",
    "API_TOKEN = \"8cb7a3a5529cec195ed3adc5cd994e66\"\n",
    "\n",
    "headers = {\n",
    "    \"Authorization\": f\"Bearer {API_TOKEN}\",\n",
    "    \"Accept\": \"application/json\"\n",
    "}\n",
    "\n",
    "# Exemplo de endpoint (vamos supor que haja um endpoint de ações)\n",
    "url = \"https://api.dadosdemercado.com.br/v1/companies\"\n",
    "\n",
    "response = requests.get(url, headers=headers)\n",
    "\n",
    "if response.status_code == 200:\n",
    "    dados = response.json()\n",
    "    print(dados)\n",
    "else:\n",
    "    print(f\"Erro {response.status_code}: {response.text}\")\n"
   ]
  },
  {
   "cell_type": "code",
   "execution_count": 6,
   "id": "7e5359db",
   "metadata": {},
   "outputs": [
    {
     "name": "stdout",
     "output_type": "stream",
     "text": [
      "               open     high      low    close    volume\n",
      "2025-07-21  30.8900  31.2800  30.7700  31.0500  16412000\n",
      "2025-07-22  31.0500  31.5800  30.9900  31.3500  24557100\n",
      "2025-07-23  31.3500  32.0300  31.3000  31.9900  27418600\n",
      "2025-07-24  31.9300  32.0200  31.6500  31.9400  17856300\n",
      "2025-07-25  31.9900  32.1800  31.9100  31.9800  13341000\n"
     ]
    }
   ],
   "source": [
    "import requests\n",
    "import pandas as pd\n",
    "\n",
    "API_KEY = \"1I1ISMUDA56QI3JR\"\n",
    "ticker = \"PETR4.SA\"\n",
    "\n",
    "url = \"https://www.alphavantage.co/query\"\n",
    "\n",
    "params = {\n",
    "    \"function\": \"TIME_SERIES_DAILY\",\n",
    "    \"symbol\": ticker,\n",
    "    \"outputsize\": \"compact\",  # ou \"full\" para histórico completo\n",
    "    \"apikey\": API_KEY\n",
    "}\n",
    "\n",
    "response = requests.get(url, params=params)\n",
    "\n",
    "if response.status_code == 200:\n",
    "    data = response.json()\n",
    "\n",
    "    if \"Time Series (Daily)\" in data:\n",
    "        series = data[\"Time Series (Daily)\"]\n",
    "\n",
    "        df = pd.DataFrame.from_dict(series, orient=\"index\")\n",
    "        df = df.rename(columns={\n",
    "            \"1. open\": \"open\",\n",
    "            \"2. high\": \"high\",\n",
    "            \"3. low\": \"low\",\n",
    "            \"4. close\": \"close\",\n",
    "            \"5. volume\": \"volume\"\n",
    "        })\n",
    "        df.index = pd.to_datetime(df.index)\n",
    "        df = df.sort_index()\n",
    "        print(df.tail())\n",
    "    else:\n",
    "        print(\"❌ Erro na resposta da API:\")\n",
    "        print(data)\n",
    "else:\n",
    "    print(f\"Erro HTTP {response.status_code}: {response.text}\")\n"
   ]
  },
  {
   "cell_type": "code",
   "execution_count": 7,
   "id": "92a8a870",
   "metadata": {},
   "outputs": [
    {
     "name": "stderr",
     "output_type": "stream",
     "text": [
      "2025-07-27 22:25:54,227 [logging.log_init] INFO: LOGLEVEL=INFO\n"
     ]
    },
    {
     "name": "stdout",
     "output_type": "stream",
     "text": [
      "       Papel Tipo       Empresa                            Setor  \\\n",
      "PETR4  PETR4   PN  PETROBRAS PN  Petróleo, Gás e Biocombustíveis   \n",
      "\n",
      "                                Subsetor Cotacao Data_ult_cot Min_52_sem  \\\n",
      "PETR4  Exploração, Refino e Distribuição   31.98   2025-07-25      28.88   \n",
      "\n",
      "      Max_52_sem  Vol_med_2m  ...  Ativo_Circulante     Div_Bruta  \\\n",
      "PETR4      36.60  1054130000  ...      124853000000  370314000000   \n",
      "\n",
      "        Div_Liquida    Patrim_Liq Receita_Liquida_12m      EBIT_12m  \\\n",
      "PETR4  326276000000  395841000000        496252000000  210259000000   \n",
      "\n",
      "      Lucro_Liquido_12m Receita_Liquida_3m      EBIT_3m Lucro_Liquido_3m  \n",
      "PETR4       48115000000       123144000000  51741000000      35209000000  \n",
      "\n",
      "[1 rows x 48 columns]\n"
     ]
    }
   ],
   "source": [
    "import fundamentus\n",
    "\n",
    "# Pega todos os dados fundamentalistas das ações\n",
    "# df = fundamentus.get_resultado()\n",
    "# print(df.head())\n",
    "\n",
    "# Dados detalhados de uma ação específica (ex: PETR4)\n",
    "petr4 = fundamentus.get_detalhes_papel('PETR4')\n",
    "print(petr4)"
   ]
  },
  {
   "cell_type": "code",
   "execution_count": 9,
   "id": "e712d74f",
   "metadata": {},
   "outputs": [
    {
     "name": "stderr",
     "output_type": "stream",
     "text": [
      "C:\\Users\\Colaborador\\AppData\\Local\\Temp\\ipykernel_16796\\1574705922.py:3: FutureWarning: YF.download() has changed argument auto_adjust default to True\n",
      "  petr4_hist = yf.download(\"PETR4.SA\", period=\"5y\")\n",
      "[*********************100%***********************]  1 of 1 completed"
     ]
    },
    {
     "name": "stdout",
     "output_type": "stream",
     "text": [
      "Price          Close      High       Low      Open    Volume\n",
      "Ticker      PETR4.SA  PETR4.SA  PETR4.SA  PETR4.SA  PETR4.SA\n",
      "Date                                                        \n",
      "2020-07-27  7.028770  7.043918  6.801547  6.928792  56539600\n",
      "2020-07-28  6.907582  7.065124  6.907582  6.980294  48353000\n",
      "2020-07-29  7.019680  7.043917  6.943939  6.977265  44011500\n",
      "2020-07-30  6.913644  6.943941  6.816696  6.943941  57859000\n",
      "2020-07-31  6.725804  7.010590  6.713685  6.943938  75397300\n"
     ]
    },
    {
     "name": "stderr",
     "output_type": "stream",
     "text": [
      "\n"
     ]
    }
   ],
   "source": [
    "# Pega preços históricos via Yahoo Finance\n",
    "import yfinance as yf\n",
    "petr4_hist = yf.download(\"PETR4.SA\", period=\"5y\")\n",
    "print(petr4_hist.head())"
   ]
  },
  {
   "cell_type": "code",
   "execution_count": 10,
   "id": "d1b611c7",
   "metadata": {},
   "outputs": [
    {
     "ename": "Exception",
     "evalue": "Exchange or symbol not found.",
     "output_type": "error",
     "traceback": [
      "\u001b[1;31m---------------------------------------------------------------------------\u001b[0m",
      "\u001b[1;31mException\u001b[0m                                 Traceback (most recent call last)",
      "Cell \u001b[1;32mIn[10], line 9\u001b[0m\n\u001b[0;32m      1\u001b[0m \u001b[38;5;28;01mfrom\u001b[39;00m\u001b[38;5;250m \u001b[39m\u001b[38;5;21;01mtradingview_ta\u001b[39;00m\u001b[38;5;250m \u001b[39m\u001b[38;5;28;01mimport\u001b[39;00m TA_Handler\n\u001b[0;32m      3\u001b[0m petr4 \u001b[38;5;241m=\u001b[39m TA_Handler(\n\u001b[0;32m      4\u001b[0m     symbol\u001b[38;5;241m=\u001b[39m\u001b[38;5;124m\"\u001b[39m\u001b[38;5;124mPETR4\u001b[39m\u001b[38;5;124m\"\u001b[39m,\n\u001b[0;32m      5\u001b[0m     screener\u001b[38;5;241m=\u001b[39m\u001b[38;5;124m\"\u001b[39m\u001b[38;5;124mbrazil\u001b[39m\u001b[38;5;124m\"\u001b[39m,\n\u001b[0;32m      6\u001b[0m     exchange\u001b[38;5;241m=\u001b[39m\u001b[38;5;124m\"\u001b[39m\u001b[38;5;124mB3\u001b[39m\u001b[38;5;124m\"\u001b[39m,\n\u001b[0;32m      7\u001b[0m     interval\u001b[38;5;241m=\u001b[39m\u001b[38;5;124m\"\u001b[39m\u001b[38;5;124m1M\u001b[39m\u001b[38;5;124m\"\u001b[39m  \u001b[38;5;66;03m# Mensal\u001b[39;00m\n\u001b[0;32m      8\u001b[0m )\n\u001b[1;32m----> 9\u001b[0m indicadores \u001b[38;5;241m=\u001b[39m \u001b[43mpetr4\u001b[49m\u001b[38;5;241;43m.\u001b[39;49m\u001b[43mget_analysis\u001b[49m\u001b[43m(\u001b[49m\u001b[43m)\u001b[49m\u001b[38;5;241m.\u001b[39mindicators\n\u001b[0;32m     10\u001b[0m \u001b[38;5;28mprint\u001b[39m(indicadores[\u001b[38;5;124m'\u001b[39m\u001b[38;5;124mP/E\u001b[39m\u001b[38;5;124m'\u001b[39m], indicadores[\u001b[38;5;124m'\u001b[39m\u001b[38;5;124mDividend Yield\u001b[39m\u001b[38;5;124m'\u001b[39m])\n",
      "File \u001b[1;32mc:\\Users\\Colaborador\\AppData\\Local\\Programs\\Python\\Python313\\Lib\\site-packages\\tradingview_ta\\main.py:387\u001b[0m, in \u001b[0;36mTA_Handler.get_analysis\u001b[1;34m(self)\u001b[0m\n\u001b[0;32m    380\u001b[0m \u001b[38;5;28;01mdef\u001b[39;00m\u001b[38;5;250m \u001b[39m\u001b[38;5;21mget_analysis\u001b[39m(\u001b[38;5;28mself\u001b[39m):\n\u001b[0;32m    381\u001b[0m \u001b[38;5;250m    \u001b[39m\u001b[38;5;124;03m\"\"\"Get analysis from TradingView and compute it.\u001b[39;00m\n\u001b[0;32m    382\u001b[0m \n\u001b[0;32m    383\u001b[0m \u001b[38;5;124;03m    Returns:\u001b[39;00m\n\u001b[0;32m    384\u001b[0m \u001b[38;5;124;03m        Analysis: Contains information about the analysis.\u001b[39;00m\n\u001b[0;32m    385\u001b[0m \u001b[38;5;124;03m    \"\"\"\u001b[39;00m\n\u001b[1;32m--> 387\u001b[0m     \u001b[38;5;28;01mreturn\u001b[39;00m calculate(indicators\u001b[38;5;241m=\u001b[39m\u001b[38;5;28;43mself\u001b[39;49m\u001b[38;5;241;43m.\u001b[39;49m\u001b[43mget_indicators\u001b[49m\u001b[43m(\u001b[49m\u001b[43m)\u001b[49m, indicators_key\u001b[38;5;241m=\u001b[39m\u001b[38;5;28mself\u001b[39m\u001b[38;5;241m.\u001b[39mindicators, screener\u001b[38;5;241m=\u001b[39m\u001b[38;5;28mself\u001b[39m\u001b[38;5;241m.\u001b[39mscreener, symbol\u001b[38;5;241m=\u001b[39m\u001b[38;5;28mself\u001b[39m\u001b[38;5;241m.\u001b[39msymbol, exchange\u001b[38;5;241m=\u001b[39m\u001b[38;5;28mself\u001b[39m\u001b[38;5;241m.\u001b[39mexchange, interval\u001b[38;5;241m=\u001b[39m\u001b[38;5;28mself\u001b[39m\u001b[38;5;241m.\u001b[39minterval)\n",
      "File \u001b[1;32mc:\\Users\\Colaborador\\AppData\\Local\\Programs\\Python\\Python313\\Lib\\site-packages\\tradingview_ta\\main.py:368\u001b[0m, in \u001b[0;36mTA_Handler.get_indicators\u001b[1;34m(self, indicators)\u001b[0m\n\u001b[0;32m    366\u001b[0m     \u001b[38;5;28;01mreturn\u001b[39;00m indicators_val\n\u001b[0;32m    367\u001b[0m \u001b[38;5;28;01melse\u001b[39;00m:\n\u001b[1;32m--> 368\u001b[0m     \u001b[38;5;28;01mraise\u001b[39;00m \u001b[38;5;167;01mException\u001b[39;00m(\u001b[38;5;124m\"\u001b[39m\u001b[38;5;124mExchange or symbol not found.\u001b[39m\u001b[38;5;124m\"\u001b[39m)\n",
      "\u001b[1;31mException\u001b[0m: Exchange or symbol not found."
     ]
    }
   ],
   "source": [
    "from tradingview_ta import TA_Handler\n",
    "\n",
    "petr4 = TA_Handler(\n",
    "    symbol=\"PETR4\",\n",
    "    screener=\"brazil\",\n",
    "    exchange=\"B3\",\n",
    "    interval=\"1M\"  # Mensal\n",
    ")\n",
    "indicadores = petr4.get_analysis().indicators\n",
    "print(indicadores['P/E'], indicadores['Dividend Yield'])"
   ]
  }
 ],
 "metadata": {
  "kernelspec": {
   "display_name": "Python 3",
   "language": "python",
   "name": "python3"
  },
  "language_info": {
   "codemirror_mode": {
    "name": "ipython",
    "version": 3
   },
   "file_extension": ".py",
   "mimetype": "text/x-python",
   "name": "python",
   "nbconvert_exporter": "python",
   "pygments_lexer": "ipython3",
   "version": "3.13.1"
  }
 },
 "nbformat": 4,
 "nbformat_minor": 5
}
