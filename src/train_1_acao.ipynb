{
 "cells": [
  {
   "cell_type": "code",
   "execution_count": 1,
   "id": "ba012a56",
   "metadata": {},
   "outputs": [],
   "source": [
    "import torch\n",
    "import torch.nn as nn\n",
    "import numpy as np\n",
    "import pandas as pd\n",
    "from sklearn.model_selection import train_test_split\n",
    "from sklearn.metrics import mean_squared_error, r2_score"
   ]
  },
  {
   "cell_type": "code",
   "execution_count": 2,
   "id": "44dc292e",
   "metadata": {},
   "outputs": [],
   "source": [
    "# 1. Preparar os dados\n",
    "df = pd.read_csv('datasets/PETR4_raw.csv', parse_dates=['Unnamed: 0'])\n",
    "df.rename(columns={'Unnamed: 0': 'Date'}, inplace=True)\n",
    "df.sort_values('Date', inplace=True)\n",
    "\n",
    "# 2. Criar target\n",
    "df['target'] = df['close'].shift(-252) / df['close'] - 1\n",
    "features = ['open', 'high', 'low', 'close', 'volume']\n",
    "n_days = 30\n",
    "\n",
    "X, y = [], []\n",
    "\n",
    "for i in range(n_days, len(df) - 252):\n",
    "    window = df.iloc[i - n_days:i][features].values\n",
    "    target = df.iloc[i]['target']\n",
    "    if not np.isnan(window).any() and not np.isnan(target):\n",
    "        X.append(window)\n",
    "        y.append(target)\n",
    "\n",
    "X = np.array(X)  # shape: (N, 30, 5)\n",
    "y = np.array(y)\n",
    "\n",
    "# Train/test split\n",
    "X_train, X_test, y_train, y_test = train_test_split(X, y, shuffle=False, test_size=0.2)\n",
    "\n",
    "# Converter para tensors\n",
    "X_train = torch.tensor(X_train, dtype=torch.float32)\n",
    "y_train = torch.tensor(y_train, dtype=torch.float32).unsqueeze(1)\n",
    "X_test = torch.tensor(X_test, dtype=torch.float32)\n",
    "y_test = torch.tensor(y_test, dtype=torch.float32).unsqueeze(1)"
   ]
  },
  {
   "cell_type": "code",
   "execution_count": 3,
   "id": "2934be4d",
   "metadata": {},
   "outputs": [],
   "source": [
    "class TimeSeriesTransformer(nn.Module):\n",
    "    def __init__(self, input_dim=5, d_model=64, nhead=4, num_layers=2):\n",
    "        super().__init__()\n",
    "        self.input_proj = nn.Linear(input_dim, d_model)\n",
    "        encoder_layer = nn.TransformerEncoderLayer(d_model=d_model, nhead=nhead, batch_first=True)\n",
    "        self.transformer = nn.TransformerEncoder(encoder_layer, num_layers=num_layers)\n",
    "        self.pool = nn.AdaptiveAvgPool1d(1)\n",
    "        self.regressor = nn.Linear(d_model, 1)\n",
    "\n",
    "    def forward(self, x):\n",
    "        x = self.input_proj(x)  # (B, 30, d_model)\n",
    "        x = self.transformer(x)  # (B, 30, d_model)\n",
    "        x = x.mean(dim=1)  # média ao longo da sequência\n",
    "        return self.regressor(x)\n",
    "\n",
    "# Instanciar modelo\n",
    "model = TimeSeriesTransformer()\n",
    "loss_fn = nn.MSELoss()\n",
    "optimizer = torch.optim.Adam(model.parameters(), lr=0.001)"
   ]
  },
  {
   "cell_type": "code",
   "execution_count": 4,
   "id": "4d3cb76a",
   "metadata": {},
   "outputs": [
    {
     "name": "stdout",
     "output_type": "stream",
     "text": [
      "Epoch 0 | Loss: 0.9414\n",
      "Epoch 5 | Loss: 0.5037\n",
      "Epoch 10 | Loss: 0.1924\n",
      "Epoch 15 | Loss: 0.2685\n",
      "Epoch 20 | Loss: 0.2077\n",
      "Epoch 25 | Loss: 0.2126\n"
     ]
    }
   ],
   "source": [
    "# 4. Treinar\n",
    "for epoch in range(30):\n",
    "    model.train()\n",
    "    pred = model(X_train)\n",
    "    loss = loss_fn(pred, y_train)\n",
    "    \n",
    "    optimizer.zero_grad()\n",
    "    loss.backward()\n",
    "    optimizer.step()\n",
    "    \n",
    "    if epoch % 5 == 0:\n",
    "        print(f\"Epoch {epoch} | Loss: {loss.item():.4f}\")"
   ]
  },
  {
   "cell_type": "code",
   "execution_count": 6,
   "id": "006914a2",
   "metadata": {},
   "outputs": [
    {
     "name": "stdout",
     "output_type": "stream",
     "text": [
      "\n",
      "RMSE: 0.2797\n",
      "R²: -0.0463\n"
     ]
    }
   ],
   "source": [
    "# 5. Avaliar\n",
    "model.eval()\n",
    "with torch.no_grad():\n",
    "    y_pred = model(X_test).squeeze().numpy()\n",
    "    y_true = y_test.squeeze().numpy()\n",
    "\n",
    "rmse = np.sqrt(mean_squared_error(y_true, y_pred))\n",
    "r2 = r2_score(y_true, y_pred)\n",
    "\n",
    "print(f\"\\nRMSE: {rmse:.4f}\")\n",
    "print(f\"R²: {r2:.4f}\")"
   ]
  }
 ],
 "metadata": {
  "kernelspec": {
   "display_name": "Python 3",
   "language": "python",
   "name": "python3"
  },
  "language_info": {
   "codemirror_mode": {
    "name": "ipython",
    "version": 3
   },
   "file_extension": ".py",
   "mimetype": "text/x-python",
   "name": "python",
   "nbconvert_exporter": "python",
   "pygments_lexer": "ipython3",
   "version": "3.13.1"
  }
 },
 "nbformat": 4,
 "nbformat_minor": 5
}
