{
 "cells": [
  {
   "cell_type": "code",
   "execution_count": 1,
   "metadata": {},
   "outputs": [],
   "source": [
    "import pandas as pd\n",
    "import numpy as np\n",
    "import os\n",
    "from sklearn.ensemble import RandomForestRegressor\n",
    "from sklearn.model_selection import train_test_split\n",
    "from sklearn.metrics import mean_absolute_error"
   ]
  },
  {
   "cell_type": "code",
   "execution_count": 68,
   "metadata": {},
   "outputs": [
    {
     "name": "stderr",
     "output_type": "stream",
     "text": [
      "C:\\Users\\Colaborador\\AppData\\Local\\Temp\\ipykernel_20120\\2496751150.py:20: FutureWarning: DataFrameGroupBy.apply operated on the grouping columns. This behavior is deprecated, and in a future version of pandas the grouping columns will be excluded from the operation. Either pass `include_groups=False` to exclude the groupings or explicitly select the grouping columns after groupby to silence this warning.\n",
      "  df_semanal = df.groupby('cod_negociacao', group_keys=False).apply(semanalizar)\n"
     ]
    },
    {
     "data": {
      "text/html": [
       "<div>\n",
       "<style scoped>\n",
       "    .dataframe tbody tr th:only-of-type {\n",
       "        vertical-align: middle;\n",
       "    }\n",
       "\n",
       "    .dataframe tbody tr th {\n",
       "        vertical-align: top;\n",
       "    }\n",
       "\n",
       "    .dataframe thead th {\n",
       "        text-align: right;\n",
       "    }\n",
       "</style>\n",
       "<table border=\"1\" class=\"dataframe\">\n",
       "  <thead>\n",
       "    <tr style=\"text-align: right;\">\n",
       "      <th></th>\n",
       "      <th>data_pregao</th>\n",
       "      <th>preco_fechamento</th>\n",
       "      <th>volume</th>\n",
       "      <th>cod_negociacao</th>\n",
       "    </tr>\n",
       "  </thead>\n",
       "  <tbody>\n",
       "    <tr>\n",
       "      <th>0</th>\n",
       "      <td>2022-02-06</td>\n",
       "      <td>95.84</td>\n",
       "      <td>2101343</td>\n",
       "      <td>5GTK11</td>\n",
       "    </tr>\n",
       "    <tr>\n",
       "      <th>1</th>\n",
       "      <td>2022-02-13</td>\n",
       "      <td>92.07</td>\n",
       "      <td>815715</td>\n",
       "      <td>5GTK11</td>\n",
       "    </tr>\n",
       "    <tr>\n",
       "      <th>2</th>\n",
       "      <td>2022-02-20</td>\n",
       "      <td>90.55</td>\n",
       "      <td>555884</td>\n",
       "      <td>5GTK11</td>\n",
       "    </tr>\n",
       "    <tr>\n",
       "      <th>3</th>\n",
       "      <td>2022-02-27</td>\n",
       "      <td>91.90</td>\n",
       "      <td>1316175</td>\n",
       "      <td>5GTK11</td>\n",
       "    </tr>\n",
       "    <tr>\n",
       "      <th>4</th>\n",
       "      <td>2022-03-06</td>\n",
       "      <td>87.10</td>\n",
       "      <td>1002975</td>\n",
       "      <td>5GTK11</td>\n",
       "    </tr>\n",
       "  </tbody>\n",
       "</table>\n",
       "</div>"
      ],
      "text/plain": [
       "  data_pregao  preco_fechamento   volume cod_negociacao\n",
       "0  2022-02-06             95.84  2101343         5GTK11\n",
       "1  2022-02-13             92.07   815715         5GTK11\n",
       "2  2022-02-20             90.55   555884         5GTK11\n",
       "3  2022-02-27             91.90  1316175         5GTK11\n",
       "4  2022-03-06             87.10  1002975         5GTK11"
      ]
     },
     "execution_count": 68,
     "metadata": {},
     "output_type": "execute_result"
    }
   ],
   "source": [
    "# 1. Carregar e concatenar arquivos parquet\n",
    "caminho_pasta = \"C:/Users/Colaborador/Documents/repos/gerais/FinSimples/analise/datasets\"\n",
    "arquivos = [os.path.join(caminho_pasta, f) for f in os.listdir(caminho_pasta) if f.endswith('.parquet')]\n",
    "df = pd.concat([pd.read_parquet(f) for f in arquivos])\n",
    "\n",
    "# 2. Garantir ordenação e padronização\n",
    "df['data_pregao'] = pd.to_datetime(df['data_pregao'])\n",
    "df = df.sort_values(by=['cod_negociacao', 'data_pregao'])\n",
    "\n",
    "# 3. Função para reamostrar por semana e preservar o código da ação\n",
    "def semanalizar(grupo):\n",
    "    df_sem = grupo.resample('W', on='data_pregao').agg({\n",
    "        'preco_fechamento': 'last',\n",
    "        'volume': 'sum'\n",
    "    }).dropna().reset_index()\n",
    "    df_sem['cod_negociacao'] = grupo['cod_negociacao'].iloc[0]  # Adiciona de volta\n",
    "    return df_sem\n",
    "\n",
    "# 4. Aplicar reamostragem por ação\n",
    "df_semanal = df.groupby('cod_negociacao', group_keys=False).apply(semanalizar)\n",
    "\n",
    "df_semanal.to_csv(\"semanal2021-2022.csv\", index=False)\n",
    "\n",
    "df_semanal.head()"
   ]
  },
  {
   "cell_type": "code",
   "execution_count": null,
   "metadata": {},
   "outputs": [
    {
     "data": {
      "text/plain": [
       "(366037, 9)"
      ]
     },
     "execution_count": 61,
     "metadata": {},
     "output_type": "execute_result"
    }
   ],
   "source": [
    "def extrair_features_vetorizado(df_semanal):\n",
    "    \"\"\"\n",
    "    Extrai features de forma vetorizada, muito mais rápido que o loop.\n",
    "    \"\"\"\n",
    "    # Garante que cada grupo de ação está ordenado por data\n",
    "    df_semanal = df_semanal.sort_values(['cod_negociacao', 'data_pregao'])\n",
    "    \n",
    "    # Agrupa por ação para aplicar as funções de janela corretamente\n",
    "    gb = df_semanal.groupby('cod_negociacao')['preco_fechamento']\n",
    "    \n",
    "    # Cria as features usando rolling (janela deslizante)\n",
    "    df_semanal['media_4w'] = gb.rolling(window=4).mean().reset_index(level=0, drop=True)\n",
    "    df_semanal['vol_4w'] = gb.rolling(window=4).std().reset_index(level=0, drop=True)\n",
    "    \n",
    "    # Para os retornos, usamos shift() para pegar preços passados\n",
    "    preco_passado_4w = gb.shift(3) # 3 períodos atrás é o início de uma janela de 4 semanas\n",
    "    preco_passado_12w = gb.shift(11) # 11 períodos atrás é o início de uma janela de 12 semanas\n",
    "    \n",
    "    df_semanal['retorno_4w'] = (df_semanal['preco_fechamento'] / preco_passado_4w) - 1\n",
    "    df_semanal['retorno_12w'] = (df_semanal['preco_fechamento'] / preco_passado_12w) - 1\n",
    "    \n",
    "    # A variável alvo já foi criada, então não precisamos recriá-la\n",
    "    # df_semanal['retorno_futuro'] = gb.shift(-52) / df_semanal['preco_fechamento'] - 1\n",
    "    \n",
    "    return df_semanal\n",
    "\n",
    "# Aplica a nova função\n",
    "# Primeiro, crie a variável alvo como você já fazia (esse trecho ta criando alguns infinitos)\n",
    "# Cria a variável alvo evitando divisão por zero ou valores nulos\n",
    "# Garante que 'cod_negociacao' não esteja no índice\n",
    "df_semanal = pd.read_csv(\"semanal2021-2022.csv\")\n",
    "\n",
    "# Criação do retorno futuro\n",
    "preco_futuro = df_semanal.groupby('cod_negociacao')['preco_fechamento'].shift(-52)\n",
    "preco_atual = df_semanal['preco_fechamento']\n",
    "\n",
    "retorno_futuro = np.where(\n",
    "    (preco_atual.notna()) & (preco_atual != 0),\n",
    "    (preco_futuro - preco_atual) / preco_atual,\n",
    "    np.nan\n",
    ")\n",
    "\n",
    "df_semanal['retorno_futuro'] = retorno_futuro\n",
    "\n",
    "# Agora, crie as features de forma otimizada\n",
    "df_features_otimizado = extrair_features_vetorizado(df_semanal)\n",
    "\n",
    "# Limpa os NaNs gerados pelas janelas deslizantes e pelo shift do alvo\n",
    "df_features_otimizado = df_features_otimizado.dropna()\n",
    "\n",
    "df_features_otimizado.shape"
   ]
  },
  {
   "cell_type": "code",
   "execution_count": 62,
   "metadata": {},
   "outputs": [
    {
     "name": "stdout",
     "output_type": "stream",
     "text": [
      "(366037, 6)\n",
      "(366037,)\n",
      "(365949, 6)\n",
      "(365949,)\n"
     ]
    }
   ],
   "source": [
    "# df_features = pd.concat([extrair_features_semanal(g) for _, g in df_semanal.groupby('cod_negociacao')])\n",
    "df_features_otimizado = df_features_otimizado.reset_index(drop=True)\n",
    "\n",
    "# 6. Preparar dados para treino\n",
    "X = df_features_otimizado.drop(columns=['retorno_futuro', 'cod_negociacao', 'data_pregao'])\n",
    "y = df_features_otimizado['retorno_futuro']\n",
    "\n",
    "print(X.shape)\n",
    "print(y.shape)\n",
    "\n",
    "# Limpeza\n",
    "X = X.replace([np.inf, -np.inf], np.nan).dropna()\n",
    "y = y.loc[X.index]\n",
    "\n",
    "print(X.shape)\n",
    "print(y.shape)\n",
    "\n",
    "# X_train, X_test, y_train, y_test = train_test_split(X, y, test_size=0.2, shuffle=False)\n",
    "\n",
    "# mask = y_train < 100_000\n",
    "# X_train = X_train[mask]\n",
    "# y_train = y_train[mask]"
   ]
  },
  {
   "cell_type": "code",
   "execution_count": 63,
   "metadata": {},
   "outputs": [],
   "source": [
    "X_train, X_test, y_train, y_test = train_test_split(X, y, test_size=0.2, shuffle=False)\n",
    "\n",
    "# mask = y_train < 100_000\n",
    "# X_train = X_train[mask]\n",
    "# y_train = y_train[mask]\n",
    "\n",
    "from sklearn.preprocessing import StandardScaler\n",
    "\n",
    "scaler = StandardScaler()\n",
    "X_train_scaled = scaler.fit_transform(X_train)\n",
    "X_test_scaled = scaler.transform(X_test)\n"
   ]
  },
  {
   "cell_type": "code",
   "execution_count": 64,
   "metadata": {},
   "outputs": [
    {
     "name": "stdout",
     "output_type": "stream",
     "text": [
      "\n",
      "Verificação final antes do MAE:\n",
      "Infinitos em X_test_scaled: False\n",
      "NaN em X_test_scaled: False\n",
      "Infinitos em y_test: False\n",
      "\n",
      "Valores extremos:\n",
      "Max y_test: 2579.0\n",
      "Min y_test: -1.0\n"
     ]
    }
   ],
   "source": [
    "# Verifique INF/NAN nos dados de teste\n",
    "print(\"\\nVerificação final antes do MAE:\")\n",
    "print(\"Infinitos em X_test_scaled:\", np.isinf(X_test_scaled).any())\n",
    "print(\"NaN em X_test_scaled:\", np.isnan(X_test_scaled).any())\n",
    "print(\"Infinitos em y_test:\", np.isinf(y_test.astype(np.float64)).any())\n",
    "\n",
    "# Verifique valores extremos\n",
    "print(\"\\nValores extremos:\")\n",
    "print(\"Max y_test:\", y_test.max())\n",
    "print(\"Min y_test:\", y_test.min())"
   ]
  },
  {
   "cell_type": "code",
   "execution_count": 65,
   "metadata": {},
   "outputs": [
    {
     "name": "stdout",
     "output_type": "stream",
     "text": [
      "Infinitos em y_pred: False\n",
      "Max y_pred: 1797.685\n",
      "Min y_pred: -0.9141011190643771\n"
     ]
    }
   ],
   "source": [
    "# 7. Treinar modelo\n",
    "model = RandomForestRegressor(n_estimators=100, random_state=42)\n",
    "model.fit(X_train_scaled, y_train)\n",
    "y_pred = model.predict(X_test_scaled)\n",
    "\n",
    "print(\"Infinitos em y_pred:\", np.isinf(y_pred).any())\n",
    "print(\"Max y_pred:\", y_pred.max())\n",
    "print(\"Min y_pred:\", y_pred.min())\n",
    "\n",
    "# mae = mean_absolute_error(y_test, y_pred)\n",
    "# print(f\"MAE (erro absoluto médio): {mae:.4f}\")"
   ]
  },
  {
   "cell_type": "code",
   "execution_count": 66,
   "metadata": {},
   "outputs": [
    {
     "name": "stdout",
     "output_type": "stream",
     "text": [
      "MAE (erro absoluto médio): 0.8464\n",
      "R²: -1.5875807479095019\n"
     ]
    }
   ],
   "source": [
    "from sklearn.metrics import mean_squared_error, r2_score\n",
    "mae = mean_absolute_error(y_test, y_pred)\n",
    "print(f\"MAE (erro absoluto médio): {mae:.4f}\")\n",
    "print(\"R²:\", r2_score(y_test, y_pred))"
   ]
  },
  {
   "cell_type": "code",
   "execution_count": 58,
   "metadata": {},
   "outputs": [
    {
     "name": "stdout",
     "output_type": "stream",
     "text": [
      "📊 Regressão Linear:\n",
      "MAE: 0.3889592900861765\n",
      "RMSE: 1.171466318197231\n",
      "R²: -0.009095217836476044\n"
     ]
    },
    {
     "name": "stderr",
     "output_type": "stream",
     "text": [
      "C:\\Users\\Colaborador\\AppData\\Local\\Temp\\ipykernel_20120\\2824181757.py:25: UserWarning: Glyph 128200 (\\N{CHART WITH UPWARDS TREND}) missing from font(s) DejaVu Sans.\n",
      "  plt.tight_layout()\n",
      "C:\\Users\\Colaborador\\AppData\\Roaming\\Python\\Python313\\site-packages\\IPython\\core\\pylabtools.py:170: UserWarning: Glyph 128200 (\\N{CHART WITH UPWARDS TREND}) missing from font(s) DejaVu Sans.\n",
      "  fig.canvas.print_figure(bytes_io, **kw)\n"
     ]
    },
    {
     "data": {
      "image/png": "[encoded data removed]",
      "text/plain": [
       "<Figure size 800x600 with 1 Axes>"
      ]
     },
     "metadata": {},
     "output_type": "display_data"
    }
   ],
   "source": [
    "from sklearn.linear_model import LinearRegression\n",
    "import matplotlib.pyplot as plt\n",
    "import seaborn as sns\n",
    "# 7. Treinar modelo de regressão linear\n",
    "lr_model = LinearRegression()\n",
    "lr_model.fit(X_train, y_train)\n",
    "\n",
    "# 8. Prever\n",
    "y_pred_lr = lr_model.predict(X_test)\n",
    "\n",
    "# 9. Avaliar\n",
    "print(\"📊 Regressão Linear:\")\n",
    "print(\"MAE:\", mean_absolute_error(y_test, y_pred_lr))\n",
    "print(\"RMSE:\", np.sqrt(mean_squared_error(y_test, y_pred_lr)))\n",
    "print(\"R²:\", r2_score(y_test, y_pred_lr))\n",
    "\n",
    "# 10. Visualização\n",
    "plt.figure(figsize=(8, 6))\n",
    "sns.scatterplot(x=y_test, y=y_pred_lr, alpha=0.5)\n",
    "plt.xlabel(\"Retorno Futuro Real\")\n",
    "plt.ylabel(\"Predito pela Regressão Linear\")\n",
    "plt.title(\"📈 Regressão Linear: Real vs Predito\")\n",
    "plt.plot([y_test.min(), y_test.max()], [y_test.min(), y_test.max()], color='red')\n",
    "plt.grid(True)\n",
    "plt.tight_layout()\n",
    "plt.show()"
   ]
  },
  {
   "cell_type": "code",
   "execution_count": 67,
   "metadata": {},
   "outputs": [
    {
     "ename": "TypeError",
     "evalue": "'<=' not supported between instances of 'str' and 'Timestamp'",
     "output_type": "error",
     "traceback": [
      "\u001b[1;31m---------------------------------------------------------------------------\u001b[0m",
      "\u001b[1;31mTypeError\u001b[0m                                 Traceback (most recent call last)",
      "Cell \u001b[1;32mIn[67], line 22\u001b[0m\n\u001b[0;32m     20\u001b[0m ticker_exemplo \u001b[38;5;241m=\u001b[39m \u001b[38;5;124m'\u001b[39m\u001b[38;5;124mPETR4\u001b[39m\u001b[38;5;124m'\u001b[39m\n\u001b[0;32m     21\u001b[0m data_exemplo \u001b[38;5;241m=\u001b[39m pd\u001b[38;5;241m.\u001b[39mTimestamp(\u001b[38;5;124m'\u001b[39m\u001b[38;5;124m2023-06-01\u001b[39m\u001b[38;5;124m'\u001b[39m)\n\u001b[1;32m---> 22\u001b[0m retorno_percentual \u001b[38;5;241m=\u001b[39m \u001b[43mprever_retorno_semanal\u001b[49m\u001b[43m(\u001b[49m\u001b[43mdf_semanal\u001b[49m\u001b[43m,\u001b[49m\u001b[43m \u001b[49m\u001b[43mticker_exemplo\u001b[49m\u001b[43m,\u001b[49m\u001b[43m \u001b[49m\u001b[43mdata_exemplo\u001b[49m\u001b[43m)\u001b[49m\n\u001b[0;32m     23\u001b[0m \u001b[38;5;28mprint\u001b[39m(\u001b[38;5;124mf\u001b[39m\u001b[38;5;124m\"\u001b[39m\u001b[38;5;124mPrevisão de rendimento médio em 1 ano para \u001b[39m\u001b[38;5;132;01m{\u001b[39;00mticker_exemplo\u001b[38;5;132;01m}\u001b[39;00m\u001b[38;5;124m a partir de \u001b[39m\u001b[38;5;132;01m{\u001b[39;00mdata_exemplo\u001b[38;5;241m.\u001b[39mdate()\u001b[38;5;132;01m}\u001b[39;00m\u001b[38;5;124m: \u001b[39m\u001b[38;5;132;01m{\u001b[39;00mretorno_percentual\u001b[38;5;132;01m:\u001b[39;00m\u001b[38;5;124m.2f\u001b[39m\u001b[38;5;132;01m}\u001b[39;00m\u001b[38;5;124m%\u001b[39m\u001b[38;5;124m\"\u001b[39m)\n",
      "Cell \u001b[1;32mIn[67], line 4\u001b[0m, in \u001b[0;36mprever_retorno_semanal\u001b[1;34m(df_semanal, ticker, data_referencia)\u001b[0m\n\u001b[0;32m      2\u001b[0m \u001b[38;5;28;01mdef\u001b[39;00m\u001b[38;5;250m \u001b[39m\u001b[38;5;21mprever_retorno_semanal\u001b[39m(df_semanal, ticker, data_referencia):\n\u001b[0;32m      3\u001b[0m     df_ticker \u001b[38;5;241m=\u001b[39m df_semanal[df_semanal[\u001b[38;5;124m'\u001b[39m\u001b[38;5;124mcod_negociacao\u001b[39m\u001b[38;5;124m'\u001b[39m] \u001b[38;5;241m==\u001b[39m ticker]\u001b[38;5;241m.\u001b[39msort_values(\u001b[38;5;124m'\u001b[39m\u001b[38;5;124mdata_pregao\u001b[39m\u001b[38;5;124m'\u001b[39m)\n\u001b[1;32m----> 4\u001b[0m     janela \u001b[38;5;241m=\u001b[39m df_ticker[\u001b[43mdf_ticker\u001b[49m\u001b[43m[\u001b[49m\u001b[38;5;124;43m'\u001b[39;49m\u001b[38;5;124;43mdata_pregao\u001b[39;49m\u001b[38;5;124;43m'\u001b[39;49m\u001b[43m]\u001b[49m\u001b[43m \u001b[49m\u001b[38;5;241;43m<\u001b[39;49m\u001b[38;5;241;43m=\u001b[39;49m\u001b[43m \u001b[49m\u001b[43mdata_referencia\u001b[49m]\u001b[38;5;241m.\u001b[39mtail(\u001b[38;5;241m12\u001b[39m)\n\u001b[0;32m      5\u001b[0m     \u001b[38;5;28;01mif\u001b[39;00m \u001b[38;5;28mlen\u001b[39m(janela) \u001b[38;5;241m<\u001b[39m \u001b[38;5;241m12\u001b[39m:\n\u001b[0;32m      6\u001b[0m         \u001b[38;5;28;01mraise\u001b[39;00m \u001b[38;5;167;01mValueError\u001b[39;00m(\u001b[38;5;124m\"\u001b[39m\u001b[38;5;124mNão há dados suficientes (12 semanas) antes da data\u001b[39m\u001b[38;5;124m\"\u001b[39m)\n",
      "File \u001b[1;32mc:\\Users\\Colaborador\\AppData\\Local\\Programs\\Python\\Python313\\Lib\\site-packages\\pandas\\core\\ops\\common.py:76\u001b[0m, in \u001b[0;36m_unpack_zerodim_and_defer.<locals>.new_method\u001b[1;34m(self, other)\u001b[0m\n\u001b[0;32m     72\u001b[0m             \u001b[38;5;28;01mreturn\u001b[39;00m \u001b[38;5;28mNotImplemented\u001b[39m\n\u001b[0;32m     74\u001b[0m other \u001b[38;5;241m=\u001b[39m item_from_zerodim(other)\n\u001b[1;32m---> 76\u001b[0m \u001b[38;5;28;01mreturn\u001b[39;00m \u001b[43mmethod\u001b[49m\u001b[43m(\u001b[49m\u001b[38;5;28;43mself\u001b[39;49m\u001b[43m,\u001b[49m\u001b[43m \u001b[49m\u001b[43mother\u001b[49m\u001b[43m)\u001b[49m\n",
      "File \u001b[1;32mc:\\Users\\Colaborador\\AppData\\Local\\Programs\\Python\\Python313\\Lib\\site-packages\\pandas\\core\\arraylike.py:52\u001b[0m, in \u001b[0;36mOpsMixin.__le__\u001b[1;34m(self, other)\u001b[0m\n\u001b[0;32m     50\u001b[0m \u001b[38;5;129m@unpack_zerodim_and_defer\u001b[39m(\u001b[38;5;124m\"\u001b[39m\u001b[38;5;124m__le__\u001b[39m\u001b[38;5;124m\"\u001b[39m)\n\u001b[0;32m     51\u001b[0m \u001b[38;5;28;01mdef\u001b[39;00m\u001b[38;5;250m \u001b[39m\u001b[38;5;21m__le__\u001b[39m(\u001b[38;5;28mself\u001b[39m, other):\n\u001b[1;32m---> 52\u001b[0m     \u001b[38;5;28;01mreturn\u001b[39;00m \u001b[38;5;28;43mself\u001b[39;49m\u001b[38;5;241;43m.\u001b[39;49m\u001b[43m_cmp_method\u001b[49m\u001b[43m(\u001b[49m\u001b[43mother\u001b[49m\u001b[43m,\u001b[49m\u001b[43m \u001b[49m\u001b[43moperator\u001b[49m\u001b[38;5;241;43m.\u001b[39;49m\u001b[43mle\u001b[49m\u001b[43m)\u001b[49m\n",
      "File \u001b[1;32mc:\\Users\\Colaborador\\AppData\\Local\\Programs\\Python\\Python313\\Lib\\site-packages\\pandas\\core\\series.py:6130\u001b[0m, in \u001b[0;36mSeries._cmp_method\u001b[1;34m(self, other, op)\u001b[0m\n\u001b[0;32m   6127\u001b[0m lvalues \u001b[38;5;241m=\u001b[39m \u001b[38;5;28mself\u001b[39m\u001b[38;5;241m.\u001b[39m_values\n\u001b[0;32m   6128\u001b[0m rvalues \u001b[38;5;241m=\u001b[39m extract_array(other, extract_numpy\u001b[38;5;241m=\u001b[39m\u001b[38;5;28;01mTrue\u001b[39;00m, extract_range\u001b[38;5;241m=\u001b[39m\u001b[38;5;28;01mTrue\u001b[39;00m)\n\u001b[1;32m-> 6130\u001b[0m res_values \u001b[38;5;241m=\u001b[39m \u001b[43mops\u001b[49m\u001b[38;5;241;43m.\u001b[39;49m\u001b[43mcomparison_op\u001b[49m\u001b[43m(\u001b[49m\u001b[43mlvalues\u001b[49m\u001b[43m,\u001b[49m\u001b[43m \u001b[49m\u001b[43mrvalues\u001b[49m\u001b[43m,\u001b[49m\u001b[43m \u001b[49m\u001b[43mop\u001b[49m\u001b[43m)\u001b[49m\n\u001b[0;32m   6132\u001b[0m \u001b[38;5;28;01mreturn\u001b[39;00m \u001b[38;5;28mself\u001b[39m\u001b[38;5;241m.\u001b[39m_construct_result(res_values, name\u001b[38;5;241m=\u001b[39mres_name)\n",
      "File \u001b[1;32mc:\\Users\\Colaborador\\AppData\\Local\\Programs\\Python\\Python313\\Lib\\site-packages\\pandas\\core\\ops\\array_ops.py:344\u001b[0m, in \u001b[0;36mcomparison_op\u001b[1;34m(left, right, op)\u001b[0m\n\u001b[0;32m    341\u001b[0m     \u001b[38;5;28;01mreturn\u001b[39;00m invalid_comparison(lvalues, rvalues, op)\n\u001b[0;32m    343\u001b[0m \u001b[38;5;28;01melif\u001b[39;00m lvalues\u001b[38;5;241m.\u001b[39mdtype \u001b[38;5;241m==\u001b[39m \u001b[38;5;28mobject\u001b[39m \u001b[38;5;129;01mor\u001b[39;00m \u001b[38;5;28misinstance\u001b[39m(rvalues, \u001b[38;5;28mstr\u001b[39m):\n\u001b[1;32m--> 344\u001b[0m     res_values \u001b[38;5;241m=\u001b[39m \u001b[43mcomp_method_OBJECT_ARRAY\u001b[49m\u001b[43m(\u001b[49m\u001b[43mop\u001b[49m\u001b[43m,\u001b[49m\u001b[43m \u001b[49m\u001b[43mlvalues\u001b[49m\u001b[43m,\u001b[49m\u001b[43m \u001b[49m\u001b[43mrvalues\u001b[49m\u001b[43m)\u001b[49m\n\u001b[0;32m    346\u001b[0m \u001b[38;5;28;01melse\u001b[39;00m:\n\u001b[0;32m    347\u001b[0m     res_values \u001b[38;5;241m=\u001b[39m _na_arithmetic_op(lvalues, rvalues, op, is_cmp\u001b[38;5;241m=\u001b[39m\u001b[38;5;28;01mTrue\u001b[39;00m)\n",
      "File \u001b[1;32mc:\\Users\\Colaborador\\AppData\\Local\\Programs\\Python\\Python313\\Lib\\site-packages\\pandas\\core\\ops\\array_ops.py:129\u001b[0m, in \u001b[0;36mcomp_method_OBJECT_ARRAY\u001b[1;34m(op, x, y)\u001b[0m\n\u001b[0;32m    127\u001b[0m     result \u001b[38;5;241m=\u001b[39m libops\u001b[38;5;241m.\u001b[39mvec_compare(x\u001b[38;5;241m.\u001b[39mravel(), y\u001b[38;5;241m.\u001b[39mravel(), op)\n\u001b[0;32m    128\u001b[0m \u001b[38;5;28;01melse\u001b[39;00m:\n\u001b[1;32m--> 129\u001b[0m     result \u001b[38;5;241m=\u001b[39m \u001b[43mlibops\u001b[49m\u001b[38;5;241;43m.\u001b[39;49m\u001b[43mscalar_compare\u001b[49m\u001b[43m(\u001b[49m\u001b[43mx\u001b[49m\u001b[38;5;241;43m.\u001b[39;49m\u001b[43mravel\u001b[49m\u001b[43m(\u001b[49m\u001b[43m)\u001b[49m\u001b[43m,\u001b[49m\u001b[43m \u001b[49m\u001b[43my\u001b[49m\u001b[43m,\u001b[49m\u001b[43m \u001b[49m\u001b[43mop\u001b[49m\u001b[43m)\u001b[49m\n\u001b[0;32m    130\u001b[0m \u001b[38;5;28;01mreturn\u001b[39;00m result\u001b[38;5;241m.\u001b[39mreshape(x\u001b[38;5;241m.\u001b[39mshape)\n",
      "File \u001b[1;32mpandas/_libs/ops.pyx:107\u001b[0m, in \u001b[0;36mpandas._libs.ops.scalar_compare\u001b[1;34m()\u001b[0m\n",
      "\u001b[1;31mTypeError\u001b[0m: '<=' not supported between instances of 'str' and 'Timestamp'"
     ]
    }
   ],
   "source": [
    "# 9. Função para prever nova ação com últimas 12 semanas\n",
    "def prever_retorno_semanal(df_semanal, ticker, data_referencia):\n",
    "    df_ticker = df_semanal[df_semanal['cod_negociacao'] == ticker].sort_values('data_pregao')\n",
    "    janela = df_ticker[df_ticker['data_pregao'] <= data_referencia].tail(12)\n",
    "    if len(janela) < 12:\n",
    "        raise ValueError(\"Não há dados suficientes (12 semanas) antes da data\")\n",
    "    \n",
    "    entrada = {\n",
    "        'media_4w': janela['preco_fechamento'].tail(4).mean(),\n",
    "        'volatilidade_4w': janela['preco_fechamento'].tail(4).std(),\n",
    "        'retorno_4w': janela['preco_fechamento'].iloc[-1] / janela['preco_fechamento'].iloc[-4] - 1,\n",
    "        'retorno_12w': janela['preco_fechamento'].iloc[-1] / janela['preco_fechamento'].iloc[0] - 1,\n",
    "        'volume_medio': janela['volume'].mean(),\n",
    "    }\n",
    "    entrada_df = pd.DataFrame([entrada])\n",
    "    retorno_previsto = model.predict(entrada_df)[0]\n",
    "    return retorno_previsto * 100  # em %\n",
    "\n",
    "# 10. Exemplo de uso\n",
    "ticker_exemplo = 'PETR4'\n",
    "data_exemplo = pd.Timestamp('2023-06-01')\n",
    "retorno_percentual = prever_retorno_semanal(df_semanal, ticker_exemplo, data_exemplo)\n",
    "print(f\"Previsão de rendimento médio em 1 ano para {ticker_exemplo} a partir de {data_exemplo.date()}: {retorno_percentual:.2f}%\")\n"
   ]
  }
 ],
 "metadata": {
  "kernelspec": {
   "display_name": "Python 3",
   "language": "python",
   "name": "python3"
  },
  "language_info": {
   "codemirror_mode": {
    "name": "ipython",
    "version": 3
   },
   "file_extension": ".py",
   "mimetype": "text/x-python",
   "name": "python",
   "nbconvert_exporter": "python",
   "pygments_lexer": "ipython3",
   "version": "3.13.1"
  }
 },
 "nbformat": 4,
 "nbformat_minor": 2
}
